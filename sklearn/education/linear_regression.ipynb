{
 "cells": [
  {
   "cell_type": "markdown",
   "metadata": {},
   "source": [
    "# linear_regression\n",
    "\n",
    "<img src = \"../images/blog_lr.png\" >"
   ]
  },
  {
   "cell_type": "markdown",
   "metadata": {},
   "source": [
    "* 주어진 x와 y 값을 가지고 서로 간의 관계를 파악\n",
    "* 새로운 x값이 주어졌을 때 y값을 쉽게 알 수 있음"
   ]
  },
  {
   "cell_type": "code",
   "execution_count": 1,
   "metadata": {},
   "outputs": [],
   "source": [
    "import tensorflow as tf\n",
    "\n",
    "x_data = [1, 2, 3]\n",
    "y_data = [1, 2, 3]"
   ]
  },
  {
   "cell_type": "code",
   "execution_count": 2,
   "metadata": {},
   "outputs": [
    {
     "name": "stdout",
     "output_type": "stream",
     "text": [
      "x_data: [1, 2, 3]\n",
      "y_data: [1, 2, 3]\n"
     ]
    }
   ],
   "source": [
    "print(f\"x_data: {x_data}\")\n",
    "print(f\"y_data: {y_data}\")"
   ]
  },
  {
   "cell_type": "markdown",
   "metadata": {},
   "source": [
    "## 1. data 생성"
   ]
  },
  {
   "cell_type": "code",
   "execution_count": 3,
   "metadata": {},
   "outputs": [
    {
     "name": "stdout",
     "output_type": "stream",
     "text": [
      "WARNING:tensorflow:From /home/ururu/.conda/envs/py36/lib/python3.6/site-packages/tensorflow/python/framework/op_def_library.py:263: colocate_with (from tensorflow.python.framework.ops) is deprecated and will be removed in a future version.\n",
      "Instructions for updating:\n",
      "Colocations handled automatically by placer.\n"
     ]
    }
   ],
   "source": [
    "W = tf.Variable(tf.random_uniform([1], -1.0, 1.0))\n",
    "b = tf.Variable(tf.random_uniform([1], -1.0, 1.0))"
   ]
  },
  {
   "cell_type": "markdown",
   "metadata": {},
   "source": [
    "## 2. placeholder 설정"
   ]
  },
  {
   "cell_type": "code",
   "execution_count": 4,
   "metadata": {},
   "outputs": [],
   "source": [
    "X = tf.placeholder(tf.float32, name=\"X\")\n",
    "Y = tf.placeholder(tf.float32, name=\"Y\")"
   ]
  },
  {
   "cell_type": "code",
   "execution_count": 5,
   "metadata": {},
   "outputs": [
    {
     "name": "stdout",
     "output_type": "stream",
     "text": [
      "X: Tensor(\"X:0\", dtype=float32)\n",
      "Y: Tensor(\"Y:0\", dtype=float32)\n"
     ]
    }
   ],
   "source": [
    "print(f\"X: {X}\")\n",
    "print(f\"Y: {Y}\")"
   ]
  },
  {
   "cell_type": "markdown",
   "metadata": {},
   "source": [
    "## 3. model 설정"
   ]
  },
  {
   "cell_type": "code",
   "execution_count": 6,
   "metadata": {},
   "outputs": [],
   "source": [
    "model = W*X + b"
   ]
  },
  {
   "cell_type": "markdown",
   "metadata": {},
   "source": [
    "## 4. cost function"
   ]
  },
  {
   "cell_type": "code",
   "execution_count": 7,
   "metadata": {},
   "outputs": [],
   "source": [
    "cost = tf.reduce_mean(tf.square(model- Y))"
   ]
  },
  {
   "cell_type": "markdown",
   "metadata": {},
   "source": [
    "## 5. gradient desent"
   ]
  },
  {
   "cell_type": "code",
   "execution_count": 8,
   "metadata": {},
   "outputs": [
    {
     "name": "stdout",
     "output_type": "stream",
     "text": [
      "WARNING:tensorflow:From /home/ururu/.conda/envs/py36/lib/python3.6/site-packages/tensorflow/python/ops/math_ops.py:3066: to_int32 (from tensorflow.python.ops.math_ops) is deprecated and will be removed in a future version.\n",
      "Instructions for updating:\n",
      "Use tf.cast instead.\n"
     ]
    }
   ],
   "source": [
    "optimizer = tf.train.GradientDescentOptimizer(learning_rate=0.1)\n",
    "train_op = optimizer.minimize(cost)"
   ]
  },
  {
   "cell_type": "markdown",
   "metadata": {},
   "source": [
    "## 6. modeling\n",
    "<img src = \"../images/blog_gd.png\" >"
   ]
  },
  {
   "cell_type": "code",
   "execution_count": 9,
   "metadata": {},
   "outputs": [
    {
     "name": "stdout",
     "output_type": "stream",
     "text": [
      "step: 0, cost_val: 6.64916, W: [1.1429079], b: [-0.02769542]\n",
      "step: 25, cost_val: 0.00026, W: [1.0181668], b: [-0.04129723]\n",
      "step: 50, cost_val: 0.00008, W: [1.0098873], b: [-0.0224765]\n",
      "step: 75, cost_val: 0.00002, W: [1.0053813], b: [-0.01223301]\n",
      "step: 100, cost_val: 0.00001, W: [1.0029289], b: [-0.00665796]\n",
      "step: 125, cost_val: 0.00000, W: [1.0015941], b: [-0.00362372]\n",
      "step: 150, cost_val: 0.00000, W: [1.0008676], b: [-0.00197229]\n",
      "step: 175, cost_val: 0.00000, W: [1.0004722], b: [-0.00107344]\n",
      "step: 200, cost_val: 0.00000, W: [1.000257], b: [-0.00058423]\n",
      "step: 225, cost_val: 0.00000, W: [1.00014], b: [-0.00031796]\n",
      "step: 250, cost_val: 0.00000, W: [1.0000762], b: [-0.00017308]\n",
      "step: 275, cost_val: 0.00000, W: [1.0000415], b: [-9.419964e-05]\n",
      "step: 300, cost_val: 0.00000, W: [1.0000225], b: [-5.1244548e-05]\n",
      "step: 325, cost_val: 0.00000, W: [1.0000123], b: [-2.78994e-05]\n",
      "step: 350, cost_val: 0.00000, W: [1.0000067], b: [-1.5203611e-05]\n",
      "step: 375, cost_val: 0.00000, W: [1.0000037], b: [-8.32921e-06]\n",
      "step: 400, cost_val: 0.00000, W: [1.000002], b: [-4.562197e-06]\n",
      "step: 425, cost_val: 0.00000, W: [1.0000011], b: [-2.5555073e-06]\n",
      "step: 450, cost_val: 0.00000, W: [1.0000006], b: [-1.3832828e-06]\n",
      "step: 475, cost_val: 0.00000, W: [1.0000004], b: [-8.309459e-07]\n"
     ]
    }
   ],
   "source": [
    "sess =  tf.Session()\n",
    "sess.run(tf.global_variables_initializer())\n",
    "for step in range(500):\n",
    "    _, cost_val = sess.run([train_op, cost], feed_dict={X: x_data, Y: y_data})\n",
    "    if step % 25 == 0:\n",
    "        print(\"step: {}, cost_val: {:.5f}, W: {}, b: {}\".format(step, cost_val, sess.run(W), sess.run(b)))"
   ]
  },
  {
   "cell_type": "markdown",
   "metadata": {},
   "source": [
    "## 7. test"
   ]
  },
  {
   "cell_type": "code",
   "execution_count": 10,
   "metadata": {},
   "outputs": [],
   "source": [
    "class prediction:\n",
    "            \n",
    "    def run(self, input):  \n",
    "        self.input = input\n",
    "        output = sess.run(model, feed_dict={X: self.input})\n",
    "        print(\"X: {}, Y-result: {}\".format(self.input, output))\n",
    "        \n",
    "pred = prediction()"
   ]
  },
  {
   "cell_type": "code",
   "execution_count": 11,
   "metadata": {},
   "outputs": [
    {
     "name": "stdout",
     "output_type": "stream",
     "text": [
      "X: 2.5, Y-result: [2.5000002]\n",
      "X: 5, Y-result: [5.0000014]\n",
      "X: 10, Y-result: [10.000003]\n"
     ]
    }
   ],
   "source": [
    "pred.run(2.5)\n",
    "pred.run(5)\n",
    "pred.run(10)"
   ]
  }
 ],
 "metadata": {
  "kernelspec": {
   "display_name": "py36",
   "language": "python",
   "name": "py36"
  },
  "language_info": {
   "codemirror_mode": {
    "name": "ipython",
    "version": 3
   },
   "file_extension": ".py",
   "mimetype": "text/x-python",
   "name": "python",
   "nbconvert_exporter": "python",
   "pygments_lexer": "ipython3",
   "version": "3.6.8"
  }
 },
 "nbformat": 4,
 "nbformat_minor": 2
}
