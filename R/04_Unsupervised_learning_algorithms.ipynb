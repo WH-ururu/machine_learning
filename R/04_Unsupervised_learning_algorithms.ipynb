{
 "cells": [
  {
   "cell_type": "markdown",
   "metadata": {},
   "source": [
    "# 4. Unsupervised learning algorithms"
   ]
  },
  {
   "cell_type": "markdown",
   "metadata": {},
   "source": [
    "비지도 학습은 학습은 독자적으로 개념을 학습하는 알고리즘을 의미  \n",
    "지도학습을 활용하여 감독되지 않은 학습을 이해해보면  \n",
    "\n",
    "분류된 입력 학습 데이터 세트를 요구하는 지도 학습 알고리즘과는 달리, 비지도학습 알고리즘은 분류된 학습 데이터 세트없이 데이터의 관계 및 패턴을 찾음  \n",
    "이러한 알고리즘은 입력 데이터를 처리하여 규칙을 찾고, 패턴을 감지하고, 의미있는 통찰력을 얻는 데 도움이 됨  \n",
    "비지도학습 알고리즘의 경우, 교육 및 테스트 데이터 세트에 대한 개념이 없고 오히려 입력 데이터가 분석되어 패턴과 관계를 도출하는 데 사용됨  \n",
    "\n",
    "비지도 학습은 2가지 주요 범주로 나눌 수 있음  \n",
    "\n",
    "* 연관 규칙 기반 머신러닝 :이 알고리즘은 입력 데이터를 마이닝하여 패턴 및 규칙을 식별  \n",
    "이 규칙은 빈번한 항목 집합과 데이터에서 발생하는 패턴을 묘사하기 위해 데이터 집합의 변수 간의 흥미로운 관계를 설명함  \n",
    "이러한 규칙은 거대한 데이터 저장소에서 모든 비즈니스 또는 조직에 대한 유용한 통찰력을 찾는데 도움이 됨  \n",
    "인기있는 알고리즘으로는 **Apriori**와 **FP-Growth**가 있음  \n",
    "\n",
    "* 클러스터링 기반 머신러닝 : 지도 학습 기반 분류 알고리즘과 유사하게, 이러한 알고리즘의 주요 목적은 입력 데이터만으로 얻은 특징만을 사용하여 입력 데이터 포인트를 다른 클래스 또는 카테고리로 클러스터링하거나 그룹화하는 것  \n",
    "정보. 분류와 달리 출력 레이블은 클러스터링에서 미리 알 수 없음  \n",
    "일부 대중적인 클러스터링 알고리즘에는 **k-means**, **k-medoids** 및 **계층 적 클러스터링**이 포함 "
   ]
  },
  {
   "cell_type": "markdown",
   "metadata": {},
   "source": [
    "## 0. Setup"
   ]
  },
  {
   "cell_type": "code",
   "execution_count": 5,
   "metadata": {},
   "outputs": [
    {
     "name": "stderr",
     "output_type": "stream",
     "text": [
      "\n",
      "Attaching package: ‘dplyr’\n",
      "\n",
      "The following objects are masked from ‘package:arules’:\n",
      "\n",
      "    intersect, recode, setdiff, setequal, union\n",
      "\n",
      "The following objects are masked from ‘package:stats’:\n",
      "\n",
      "    filter, lag\n",
      "\n",
      "The following objects are masked from ‘package:base’:\n",
      "\n",
      "    intersect, setdiff, setequal, union\n",
      "\n"
     ]
    }
   ],
   "source": [
    "library(repr)\n",
    "options(repr.plot.width=7, repr.plot.height=4)\n",
    "options(buildtools.check = function(action) TRUE)\n",
    "        \n",
    "library(dplyr)        "
   ]
  },
  {
   "cell_type": "markdown",
   "metadata": {},
   "source": [
    "## 4.1 Apriori algorithm\n",
    "### 4.1.1 개념"
   ]
  },
  {
   "cell_type": "markdown",
   "metadata": {},
   "source": [
    "* 이 알고리즘은 1993 년 Agarwal과 Srikant에 의해 제안됨  \n",
    "* 각 트랜잭션이 항목 집합인 트랜잭션 데이터를 처리하도록 설계됨  \n",
    "* 알고리즘은 데이터 집합에서 적어도 $C$ 트랜잭션의 하위 집합 인 항목 집합을 식별  \n",
    "\n",
    "* 지지도(support) :  \n",
    "한 거래 항목 안에 A와 B를 동시에 포함하는 거래의 비율. 지지도는 A와 B가 함께 등장할 확률이다. 전체 거래의 수를 A와 B가 동시에 포함된 거래수를 나눠주면 구할 수 있음  \n",
    "\n",
    "* 신뢰도(confidence) :  \n",
    "항목 A가 포함하는 거래에 A와 B가 같이포함될 확률. 신뢰도는 조건부 확률과 유사  \n",
    "A의 확률을 A와 B가 동시에 포함될 확률을 나눠주면 구할 수 있음  \n",
    "\n",
    "* 향상도(lift) :  \n",
    "A가 주어지지 않을 때의 품목 B의 확률에 비해 A가 주어졌을 때 품목 B의 증가 비율. \n",
    "\n",
    "* lift 값은 1이면 서로 독립적인 관계이며 1보다 크면 두 품목이 서로 양의 상관관계, 1보다 작으면 두 품목이 서로 음의 상관관계  \n",
    "A와 B가 독립이면 분모, 분자가 같기 때문에 1이 나옴"
   ]
  },
  {
   "cell_type": "markdown",
   "metadata": {},
   "source": [
    "### 4.1.2 Apriori 알고리즘의 분석 순서"
   ]
  },
  {
   "cell_type": "markdown",
   "metadata": {},
   "source": [
    "1. 최소 지지도를 설정(support)  \n",
    "2. 개별 품목 중에서 최소지지도를 넘는 모든 품목을 찾음  \n",
    "3. 위에서 찾은 개별 품목만을 이용해 최소 지지도를 넘는 2가지 품목을 찾음  \n",
    "4. 위의 두 절차에서 찾은 품목 집합을 결함하여 최소 지지도를 넘는 3가지 품목 집합을 찾음  \n",
    "5. 반복적으로 수행에 최소지지도가 넘는 반발품목 집합을 찾음  \n",
    "\n",
    "---\n",
    "\n",
    "**연관규칙의 장점**  \n",
    "1. 조건 반응으로 표현되는 연관분성석의 결과 이해가 쉬움  \n",
    "2. 분석 방향이나 목적이 특별히 없는 경우 목적변수가 없으므로 유용  \n",
    "3. 데이터를 변환 없이 그 자체로 이용 가능  \n",
    "4. 계산이 상당히 간단  \n",
    "\n",
    "**연관규칙의 단점**  \n",
    "1. 품목수가 많을수록 분석에 필요한 계산이 기하급수적으로 늘어남  \n",
    "2. 너무 세분화 품목을 가지고 규칙을 찾으면 아무 의미 없는 분석이 될 수 있음  \n",
    "3. 거래량이 적은 품목은 거래수가 적어 규칙 발견시 제외하기 쉬움  "
   ]
  },
  {
   "cell_type": "markdown",
   "metadata": {},
   "source": [
    "### 4.1.3 데이터셋 준비"
   ]
  },
  {
   "cell_type": "markdown",
   "metadata": {},
   "source": [
    "* 데이터 세트는 UCI 기계 학습 저장소의 adult 데이터 세트  \n",
    "* 이 데이터 세트에는 *성별, 연령, 결혼 상태, 출신 국가 및 직업과 같은 속성과 직업 분류, 소득 등과 같은 경제적 속성*이 포함  \n",
    "* Apriori 알고리즘은 arules 라이브러리에 있음  "
   ]
  },
  {
   "cell_type": "code",
   "execution_count": 1,
   "metadata": {},
   "outputs": [
    {
     "name": "stderr",
     "output_type": "stream",
     "text": [
      "Loading required package: Matrix\n",
      "\n",
      "Attaching package: ‘arules’\n",
      "\n",
      "The following objects are masked from ‘package:base’:\n",
      "\n",
      "    abbreviate, write\n",
      "\n"
     ]
    }
   ],
   "source": [
    "# setting the apriori library\n",
    "library(arules)"
   ]
  },
  {
   "cell_type": "code",
   "execution_count": 2,
   "metadata": {},
   "outputs": [],
   "source": [
    "# loading data\n",
    "data(\"Adult\")"
   ]
  },
  {
   "cell_type": "code",
   "execution_count": 3,
   "metadata": {},
   "outputs": [
    {
     "data": {
      "text/plain": [
       "transactions as itemMatrix in sparse format with\n",
       " 48842 rows (elements/itemsets/transactions) and\n",
       " 115 columns (items) and a density of 0.1089939 \n",
       "\n",
       "most frequent items:\n",
       "           capital-loss=None            capital-gain=None \n",
       "                       46560                        44807 \n",
       "native-country=United-States                   race=White \n",
       "                       43832                        41762 \n",
       "           workclass=Private                      (Other) \n",
       "                       33906                       401333 \n",
       "\n",
       "element (itemset/transaction) length distribution:\n",
       "sizes\n",
       "    9    10    11    12    13 \n",
       "   19   971  2067 15623 30162 \n",
       "\n",
       "   Min. 1st Qu.  Median    Mean 3rd Qu.    Max. \n",
       "   9.00   12.00   13.00   12.53   13.00   13.00 \n",
       "\n",
       "includes extended item information - examples:\n",
       "           labels variables      levels\n",
       "1       age=Young       age       Young\n",
       "2 age=Middle-aged       age Middle-aged\n",
       "3      age=Senior       age      Senior\n",
       "\n",
       "includes extended transaction information - examples:\n",
       "  transactionID\n",
       "1             1\n",
       "2             2\n",
       "3             3"
      ]
     },
     "metadata": {},
     "output_type": "display_data"
    }
   ],
   "source": [
    "# summary of data set\n",
    "summary(Adult)"
   ]
  },
  {
   "cell_type": "code",
   "execution_count": 4,
   "metadata": {},
   "outputs": [
    {
     "name": "stdout",
     "output_type": "stream",
     "text": [
      "    items                               transactionID\n",
      "[1] {age=Middle-aged,                                \n",
      "     workclass=State-gov,                            \n",
      "     education=Bachelors,                            \n",
      "     marital-status=Never-married,                   \n",
      "     occupation=Adm-clerical,                        \n",
      "     relationship=Not-in-family,                     \n",
      "     race=White,                                     \n",
      "     sex=Male,                                       \n",
      "     capital-gain=Low,                               \n",
      "     capital-loss=None,                              \n",
      "     hours-per-week=Full-time,                       \n",
      "     native-country=United-States,                   \n",
      "     income=small}                                  1\n",
      "[2] {age=Senior,                                     \n",
      "     workclass=Self-emp-not-inc,                     \n",
      "     education=Bachelors,                            \n",
      "     marital-status=Married-civ-spouse,              \n",
      "     occupation=Exec-managerial,                     \n",
      "     relationship=Husband,                           \n",
      "     race=White,                                     \n",
      "     sex=Male,                                       \n",
      "     capital-gain=None,                              \n",
      "     capital-loss=None,                              \n",
      "     hours-per-week=Part-time,                       \n",
      "     native-country=United-States,                   \n",
      "     income=small}                                  2\n",
      "[3] {age=Middle-aged,                                \n",
      "     workclass=Private,                              \n",
      "     education=HS-grad,                              \n",
      "     marital-status=Divorced,                        \n",
      "     occupation=Handlers-cleaners,                   \n",
      "     relationship=Not-in-family,                     \n",
      "     race=White,                                     \n",
      "     sex=Male,                                       \n",
      "     capital-gain=None,                              \n",
      "     capital-loss=None,                              \n",
      "     hours-per-week=Full-time,                       \n",
      "     native-country=United-States,                   \n",
      "     income=small}                                  3\n",
      "[4] {age=Senior,                                     \n",
      "     workclass=Private,                              \n",
      "     education=11th,                                 \n",
      "     marital-status=Married-civ-spouse,              \n",
      "     occupation=Handlers-cleaners,                   \n",
      "     relationship=Husband,                           \n",
      "     race=Black,                                     \n",
      "     sex=Male,                                       \n",
      "     capital-gain=None,                              \n",
      "     capital-loss=None,                              \n",
      "     hours-per-week=Full-time,                       \n",
      "     native-country=United-States,                   \n",
      "     income=small}                                  4\n",
      "[5] {age=Middle-aged,                                \n",
      "     workclass=Private,                              \n",
      "     education=Bachelors,                            \n",
      "     marital-status=Married-civ-spouse,              \n",
      "     occupation=Prof-specialty,                      \n",
      "     relationship=Wife,                              \n",
      "     race=Black,                                     \n",
      "     sex=Female,                                     \n",
      "     capital-gain=None,                              \n",
      "     capital-loss=None,                              \n",
      "     hours-per-week=Full-time,                       \n",
      "     native-country=Cuba,                            \n",
      "     income=small}                                  5\n"
     ]
    }
   ],
   "source": [
    "# Sample 5 records\n",
    "inspect(Adult[0:5])"
   ]
  },
  {
   "cell_type": "code",
   "execution_count": 8,
   "metadata": {},
   "outputs": [
    {
     "name": "stdout",
     "output_type": "stream",
     "text": [
      "Apriori\n",
      "\n",
      "Parameter specification:\n",
      " confidence minval smax arem  aval originalSupport maxtime support minlen\n",
      "        0.8    0.1    1 none FALSE            TRUE       5     0.5      1\n",
      " maxlen target   ext\n",
      "     10  rules FALSE\n",
      "\n",
      "Algorithmic control:\n",
      " filter tree heap memopt load sort verbose\n",
      "    0.1 TRUE TRUE  FALSE TRUE    2    TRUE\n",
      "\n",
      "Absolute minimum support count: 24421 \n",
      "\n",
      "set item appearances ...[0 item(s)] done [0.00s].\n",
      "set transactions ...[115 item(s), 48842 transaction(s)] done [0.03s].\n",
      "sorting and recoding items ... [9 item(s)] done [0.00s].\n",
      "creating transaction tree ... done [0.02s].\n",
      "checking subsets of size 1 2 3 4 done [0.00s].\n",
      "writing ... [84 rule(s)] done [0.00s].\n",
      "creating S4 object  ... done [0.01s].\n"
     ]
    }
   ],
   "source": [
    "# executing apriori with support=50% confidence =80%\n",
    "rules = apriori(Adult, parameter=list(support=0.5, confidence=0.8,target=\"rules\"))"
   ]
  },
  {
   "cell_type": "code",
   "execution_count": 9,
   "metadata": {},
   "outputs": [
    {
     "data": {
      "text/plain": [
       "set of 84 rules\n",
       "\n",
       "rule length distribution (lhs + rhs):sizes\n",
       " 1  2  3  4 \n",
       " 4 23 38 19 \n",
       "\n",
       "   Min. 1st Qu.  Median    Mean 3rd Qu.    Max. \n",
       "  1.000   2.000   3.000   2.857   3.000   4.000 \n",
       "\n",
       "summary of quality measures:\n",
       "    support         confidence          lift            count      \n",
       " Min.   :0.5084   Min.   :0.8504   Min.   :0.9789   Min.   :24832  \n",
       " 1st Qu.:0.5415   1st Qu.:0.8888   1st Qu.:0.9943   1st Qu.:26447  \n",
       " Median :0.5897   Median :0.9132   Median :0.9988   Median :28803  \n",
       " Mean   :0.6433   Mean   :0.9110   Mean   :1.0034   Mean   :31422  \n",
       " 3rd Qu.:0.7490   3rd Qu.:0.9422   3rd Qu.:1.0077   3rd Qu.:36585  \n",
       " Max.   :0.9533   Max.   :0.9583   Max.   :1.0586   Max.   :46560  \n",
       "\n",
       "mining info:\n",
       "  data ntransactions support confidence\n",
       " Adult         48842     0.5        0.8"
      ]
     },
     "metadata": {},
     "output_type": "display_data"
    }
   ],
   "source": [
    "# view a summary\n",
    "summary(rules)"
   ]
  },
  {
   "cell_type": "code",
   "execution_count": 10,
   "metadata": {},
   "outputs": [
    {
     "data": {
      "text/html": [
       "<table>\n",
       "<thead><tr><th></th><th scope=col>rules</th><th scope=col>support</th><th scope=col>confidence</th><th scope=col>lift</th><th scope=col>count</th></tr></thead>\n",
       "<tbody>\n",
       "\t<tr><th scope=row>7</th><td><span style=white-space:pre-wrap>{hours-per-week=Full-time} =&gt; {capital-loss=None}                      </span></td><td>0.5606650                                                                                                         </td><td>0.9582531                                                                                                         </td><td>1.005219                                                                                                          </td><td>27384                                                                                                             </td></tr>\n",
       "\t<tr><th scope=row>15</th><td><span style=white-space:pre-wrap>{workclass=Private} =&gt; {capital-loss=None}                             </span></td><td>0.6639982                                                                                                         </td><td>0.9564974                                                                                                         </td><td>1.003377                                                                                                          </td><td>32431                                                                                                             </td></tr>\n",
       "\t<tr><th scope=row>50</th><td>{workclass=Private,native-country=United-States} =&gt; {capital-loss=None}</td><td>0.5897179                                                                 </td><td>0.9554818                                                                 </td><td>1.002312                                                                  </td><td>28803                                                                     </td></tr>\n",
       "</tbody>\n",
       "</table>\n"
      ],
      "text/latex": [
       "\\begin{tabular}{r|lllll}\n",
       "  & rules & support & confidence & lift & count\\\\\n",
       "\\hline\n",
       "\t7 & \\{hours-per-week=Full-time\\} => \\{capital-loss=None\\}                       & 0.5606650                                                                       & 0.9582531                                                                       & 1.005219                                                                        & 27384                                                                          \\\\\n",
       "\t15 & \\{workclass=Private\\} => \\{capital-loss=None\\}                              & 0.6639982                                                                       & 0.9564974                                                                       & 1.003377                                                                        & 32431                                                                          \\\\\n",
       "\t50 & \\{workclass=Private,native-country=United-States\\} => \\{capital-loss=None\\} & 0.5897179                                                                       & 0.9554818                                                                       & 1.002312                                                                        & 28803                                                                          \\\\\n",
       "\\end{tabular}\n"
      ],
      "text/markdown": [
       "\n",
       "| <!--/--> | rules | support | confidence | lift | count |\n",
       "|---|---|---|---|---|---|\n",
       "| 7 | {hours-per-week=Full-time} => {capital-loss=None}                       | 0.5606650                                                               | 0.9582531                                                               | 1.005219                                                                | 27384                                                                   |\n",
       "| 15 | {workclass=Private} => {capital-loss=None}                              | 0.6639982                                                               | 0.9564974                                                               | 1.003377                                                                | 32431                                                                   |\n",
       "| 50 | {workclass=Private,native-country=United-States} => {capital-loss=None} | 0.5897179                                                               | 0.9554818                                                               | 1.002312                                                                | 28803                                                                   |\n",
       "\n"
      ],
      "text/plain": [
       "   rules                                                                  \n",
       "7  {hours-per-week=Full-time} => {capital-loss=None}                      \n",
       "15 {workclass=Private} => {capital-loss=None}                             \n",
       "50 {workclass=Private,native-country=United-States} => {capital-loss=None}\n",
       "   support   confidence lift     count\n",
       "7  0.5606650 0.9582531  1.005219 27384\n",
       "15 0.6639982 0.9564974  1.003377 32431\n",
       "50 0.5897179 0.9554818  1.002312 28803"
      ]
     },
     "metadata": {},
     "output_type": "display_data"
    }
   ],
   "source": [
    "#view top 3 rules\n",
    "as(head(sort(rules, by = c(\"confidence\", \"support\")), n=3), \"data.frame\")"
   ]
  },
  {
   "cell_type": "markdown",
   "metadata": {},
   "source": [
    "## 4.2 K-Means"
   ]
  },
  {
   "cell_type": "markdown",
   "metadata": {},
   "source": [
    "### 4.2.1 개념"
   ]
  },
  {
   "cell_type": "markdown",
   "metadata": {},
   "source": [
    "비지도학습 클러스터링 알고리즘의 세계에서 가장 간단하고 널리 사용되는 알고리즘은 **K-Means**  \n",
    "비지도학습은 알고리즘은 사전 레이블이나 훈련없이 입력 데이터를 처리하여 패턴과 관계를 도출  \n",
    "특히 클러스터링 알고리즘은 데이터 포인트를 클러스터링하거나 파티셔닝하는 데 도움이 됨  \n",
    "\n",
    "정의에 따라 클러스터링은 그룹의 요소가 다른 그룹의 요소보다 서로 유사하도록 개체를 그룹으로 그룹화하는 작업을 의미  \n",
    "수학적으로, 각 관찰이 $d$ 차원 벡터인 $n$개의 관측 $\\{x_1, \\,x_2,\\, \\cdots ,\\, x_n\\}$이 주어지면 알고리즘은 목적 함수를 최소화하여 이러한 $n$ 관측을 $k (\\le n)$ 세트로 분할하려고 시도  \n",
    "\n",
    "다른 알고리즘과 마찬가지로 다른 목적 함수가있을 수 있는데 이를 간단히 하기 위해 **with-in cluster sum of squares** 또는 **WCSS** 함수라고 불리는 가장 널리 사용되는 함수를 사용할 수 있음  \n",
    "\n",
    "$n$개의 관측 세트 = $\\{x_1,\\, x_2,\\, \\cdots ,\\, x_n\\}$  \n",
    "분할의 집합 $S$ = $\\{S_1,\\, S_2,\\, \\cdots ,S_k\\}$  \n",
    "\n",
    "목표는 내부 클러스터 합계를 최소화하는 것:  \n",
    "\n",
    "$$arg \\, min_{s}\\sum^{k}_{x=1}\\sum{\\|X-\\mu_{i}\\|}$$\n",
    "\n",
    "여기서 $\\mu_{i}$는 파티션$S_{i}$점들의 평균임  \n",
    "\n",
    "알고리즘은 간단한 2단계 반복 프로세스를 따르며, 여기서 첫 번째 단계는 할당 단계라고 부르며, 이어서 업데이트 단계가 이어짐  \n",
    "\n",
    "* $k$ 파티션을 위한 수단을 설정하여 초기화: $m_1,\\, m_2,\\, \\cdots ,\\, m_k$\n",
    "* 평균이 변하지 않거나 변화가 특정 임계 값보다 낮을 때까지 :  \n",
    "    * **할당 단계** : with-in 클러스터 합 제곱 값이 최소인 파티션에 각 관측치를 할당  \n",
    "    * 관측치에 평균이 가장 가까운 파티션에 관측치를 할당  \n",
    "\n",
    "* 업데이트 단계 : 1에서 $k$까지의 $i$에 대해, 해당 파티션의 모든 관측을 기반으로 각 평균 $m_i$를 업데이트  \n",
    "\n",
    "K-means 알고리즘은 다른 초기화 메소드를 사용할 수 있음  \n",
    "가장 일반적인 것들은 **Forgy**와 **Random Partition** 방법  "
   ]
  },
  {
   "cell_type": "code",
   "execution_count": 12,
   "metadata": {},
   "outputs": [
    {
     "data": {
      "text/html": [
       "<table>\n",
       "<thead><tr><th scope=col>Sepal.Length</th><th scope=col>Sepal.Width</th><th scope=col>Petal.Length</th><th scope=col>Petal.Width</th><th scope=col>Species</th></tr></thead>\n",
       "<tbody>\n",
       "\t<tr><td>5.1   </td><td>3.5   </td><td>1.4   </td><td>0.2   </td><td>setosa</td></tr>\n",
       "\t<tr><td>4.9   </td><td>3.0   </td><td>1.4   </td><td>0.2   </td><td>setosa</td></tr>\n",
       "\t<tr><td>4.7   </td><td>3.2   </td><td>1.3   </td><td>0.2   </td><td>setosa</td></tr>\n",
       "\t<tr><td>4.6   </td><td>3.1   </td><td>1.5   </td><td>0.2   </td><td>setosa</td></tr>\n",
       "\t<tr><td>5.0   </td><td>3.6   </td><td>1.4   </td><td>0.2   </td><td>setosa</td></tr>\n",
       "\t<tr><td>5.4   </td><td>3.9   </td><td>1.7   </td><td>0.4   </td><td>setosa</td></tr>\n",
       "</tbody>\n",
       "</table>\n"
      ],
      "text/latex": [
       "\\begin{tabular}{r|lllll}\n",
       " Sepal.Length & Sepal.Width & Petal.Length & Petal.Width & Species\\\\\n",
       "\\hline\n",
       "\t 5.1    & 3.5    & 1.4    & 0.2    & setosa\\\\\n",
       "\t 4.9    & 3.0    & 1.4    & 0.2    & setosa\\\\\n",
       "\t 4.7    & 3.2    & 1.3    & 0.2    & setosa\\\\\n",
       "\t 4.6    & 3.1    & 1.5    & 0.2    & setosa\\\\\n",
       "\t 5.0    & 3.6    & 1.4    & 0.2    & setosa\\\\\n",
       "\t 5.4    & 3.9    & 1.7    & 0.4    & setosa\\\\\n",
       "\\end{tabular}\n"
      ],
      "text/markdown": [
       "\n",
       "| Sepal.Length | Sepal.Width | Petal.Length | Petal.Width | Species |\n",
       "|---|---|---|---|---|\n",
       "| 5.1    | 3.5    | 1.4    | 0.2    | setosa |\n",
       "| 4.9    | 3.0    | 1.4    | 0.2    | setosa |\n",
       "| 4.7    | 3.2    | 1.3    | 0.2    | setosa |\n",
       "| 4.6    | 3.1    | 1.5    | 0.2    | setosa |\n",
       "| 5.0    | 3.6    | 1.4    | 0.2    | setosa |\n",
       "| 5.4    | 3.9    | 1.7    | 0.4    | setosa |\n",
       "\n"
      ],
      "text/plain": [
       "  Sepal.Length Sepal.Width Petal.Length Petal.Width Species\n",
       "1 5.1          3.5         1.4          0.2         setosa \n",
       "2 4.9          3.0         1.4          0.2         setosa \n",
       "3 4.7          3.2         1.3          0.2         setosa \n",
       "4 4.6          3.1         1.5          0.2         setosa \n",
       "5 5.0          3.6         1.4          0.2         setosa \n",
       "6 5.4          3.9         1.7          0.4         setosa "
      ]
     },
     "metadata": {},
     "output_type": "display_data"
    }
   ],
   "source": [
    "iris %>% head()"
   ]
  },
  {
   "cell_type": "code",
   "execution_count": 14,
   "metadata": {},
   "outputs": [],
   "source": [
    "# prepare a copy of iris data set\n",
    "kmean_iris = iris\n",
    "\n",
    "#Erase/ Nullify species labels\n",
    "kmean_iris$Species = NULL"
   ]
  },
  {
   "cell_type": "code",
   "execution_count": 15,
   "metadata": {},
   "outputs": [
    {
     "data": {
      "text/plain": [
       "K-means clustering with 3 clusters of sizes 50, 38, 62\n",
       "\n",
       "Cluster means:\n",
       "  Sepal.Length Sepal.Width Petal.Length Petal.Width\n",
       "1     5.006000    3.428000     1.462000    0.246000\n",
       "2     6.850000    3.073684     5.742105    2.071053\n",
       "3     5.901613    2.748387     4.393548    1.433871\n",
       "\n",
       "Clustering vector:\n",
       "  [1] 1 1 1 1 1 1 1 1 1 1 1 1 1 1 1 1 1 1 1 1 1 1 1 1 1 1 1 1 1 1 1 1 1 1 1 1 1\n",
       " [38] 1 1 1 1 1 1 1 1 1 1 1 1 1 3 3 2 3 3 3 3 3 3 3 3 3 3 3 3 3 3 3 3 3 3 3 3 3\n",
       " [75] 3 3 3 2 3 3 3 3 3 3 3 3 3 3 3 3 3 3 3 3 3 3 3 3 3 3 2 3 2 2 2 2 3 2 2 2 2\n",
       "[112] 2 2 3 3 2 2 2 2 3 2 3 2 3 2 2 3 3 2 2 2 2 2 3 2 2 2 2 3 2 2 2 3 2 2 2 3 2\n",
       "[149] 2 3\n",
       "\n",
       "Within cluster sum of squares by cluster:\n",
       "[1] 15.15100 23.87947 39.82097\n",
       " (between_SS / total_SS =  88.4 %)\n",
       "\n",
       "Available components:\n",
       "\n",
       "[1] \"cluster\"      \"centers\"      \"totss\"        \"withinss\"     \"tot.withinss\"\n",
       "[6] \"betweenss\"    \"size\"         \"iter\"         \"ifault\"      "
      ]
     },
     "metadata": {},
     "output_type": "display_data"
    }
   ],
   "source": [
    "#apply k-means with k=3\n",
    "clusters = kmeans(kmean_iris, 3)\n",
    "clusters"
   ]
  },
  {
   "cell_type": "code",
   "execution_count": 16,
   "metadata": {},
   "outputs": [
    {
     "data": {
      "text/plain": [
       "            \n",
       "              1  2  3\n",
       "  setosa     50  0  0\n",
       "  versicolor  0  2 48\n",
       "  virginica   0 36 14"
      ]
     },
     "metadata": {},
     "output_type": "display_data"
    }
   ],
   "source": [
    "# comparing cluster labels with actual iris  species labels.\n",
    "table(iris$Species, clusters$cluster)"
   ]
  },
  {
   "cell_type": "code",
   "execution_count": 17,
   "metadata": {},
   "outputs": [
    {
     "data": {
      "image/png": "[encoded data removed]",
      "text/plain": [
       "plot without title"
      ]
     },
     "metadata": {},
     "output_type": "display_data"
    }
   ],
   "source": [
    "# plot the clustered points along sepal length and width\n",
    "plot(kmean_iris[c(\"Sepal.Length\", \"Sepal.Width\")], \n",
    "     col=clusters$cluster,\n",
    "     pch = c(15, 16, 17)[as.numeric(clusters$cluster)])\n",
    "points(clusters$centers[,c(\"Sepal.Length\", \"Sepal.Width\")], col=1:3, pch=8, cex=4)"
   ]
  }
 ],
 "metadata": {
  "kernelspec": {
   "display_name": "R3.6.0",
   "language": "R",
   "name": "r3.6.0"
  },
  "language_info": {
   "codemirror_mode": "r",
   "file_extension": ".r",
   "mimetype": "text/x-r-source",
   "name": "R",
   "pygments_lexer": "r",
   "version": "3.6.0"
  }
 },
 "nbformat": 4,
 "nbformat_minor": 2
}
