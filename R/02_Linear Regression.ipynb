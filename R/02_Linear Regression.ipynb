{
 "cells": [
  {
   "cell_type": "markdown",
   "metadata": {},
   "source": [
    "# 02_Linear Regression"
   ]
  },
  {
   "cell_type": "markdown",
   "metadata": {},
   "source": [
    "    ## 2.1 개념\n",
    "    ## 2.2 키와 몸무게 데이터셋\n",
    "    ## 2.3 선형회귀 주의사항"
   ]
  },
  {
   "cell_type": "markdown",
   "metadata": {},
   "source": [
    "## 2.1 개념"
   ]
  },
  {
   "cell_type": "markdown",
   "metadata": {},
   "source": [
    "* 회귀 분석은 양적 질문에 대한 답을 찾는데 도움이 됨  \n",
    "* 회귀 분석은 **통계**에 뿌리를 두고 있음   \n",
    "* 주어진 입력 값 X에 대한 출력 값 Y를 예측하기 위해 선형 관계를 사용  \n",
    "** 이 선형 관계를 선형 회귀 또는 회귀 선이라고 함**  \n",
    "\n",
    "수학적으로, 선형 회귀는 다음과 같이 표현됨  \n",
    "\n",
    "$$y = b_0 + b_{1}x$$\n",
    "\n",
    "여기서,  \n",
    "$b_{0}$: y 절편  \n",
    "$b_{1}$은 선의 기울기임  \n",
    "\n",
    "위의 방정식은 직선이 표현되는 방식과 매우 유사하므로 선형 회귀라는 이름을 사용  "
   ]
  },
  {
   "cell_type": "markdown",
   "metadata": {},
   "source": [
    "이제 알 수없는 데이터를 잘 예측할 수 있도록 입력에 맞는 행을 어떻게 결정할 수 있는가?  \n",
    "그 전에 오류 측정이 필요함  \n",
    "다양한 오류 조치가있을 수 있으며 가장 일반적으로 사용되는 것은 **최소제곱법**임  \n",
    "\n",
    "**최소제곱법**을 정의하기 전에 먼저 **잔차**라는 용어를 이해해야합니다. 잔차는 단순히 Y값이 적합한 값에서 벗어난 것입니다. \n",
    "수학적으로 :  \n",
    "$$residual_{i} = y_i - \\hat{y}_{i}$$\n",
    "\n",
    "여기서 $\\hat{y}_{}$ 는 y의 회귀식의 값  \n",
    "\n",
    "**최소제곱법**은 잔차의 제곱의 합이 최소일 때 데이터에 대한 모델의 최적 적합이 발생한다고 가정함  \n",
    "\n",
    "수학적으로 표현하면:  \n",
    "\n",
    "$$Sum \\; of \\; Squares \\; of \\; residual = SS(residual_{i}) = SSE_{i}$$  \n",
    "$$\\begin{split} \n",
    "SSE_{i} &= \\sum^{n}_{i=1}{(y_{i} - \\hat{y}_{i})^{2}} \\\\\n",
    "&= \\sum^{n}_{i=1}{( y_{i} - (b_{0} + b_{1}x_{i}) )^{2}}\n",
    "\\end{split}$$  \n",
    "\n",
    "미적분을 사용하여 잔차에 대한 제곱합을 최소화하고 해당 계수를 찾음  "
   ]
  },
  {
   "cell_type": "markdown",
   "metadata": {},
   "source": [
    "## 2.2 키와 몸무게 데이터셋"
   ]
  },
  {
   "cell_type": "markdown",
   "metadata": {},
   "source": [
    "> 키와 몸무게와 데이터셋"
   ]
  },
  {
   "cell_type": "code",
   "execution_count": 1,
   "metadata": {},
   "outputs": [],
   "source": [
    "height = c(69.1,56.4,65.3,62.8,63,57.3,59.8,62.5,62.5,59.0,51.3,64,56.4,66.5,72.2,65.0,67.0,57.6,66.6)\n",
    "weight = c(113,84,99,103,102,83,85,113,84,99,51,90,77,112,150,128,133,85,112)"
   ]
  },
  {
   "cell_type": "markdown",
   "metadata": {},
   "source": [
    "무게와 높이 사이에 어떤 관계가 있는지 보면  "
   ]
  },
  {
   "cell_type": "code",
   "execution_count": 2,
   "metadata": {},
   "outputs": [
    {
     "data": {
      "text/html": [
       "0.884845415117229"
      ],
      "text/latex": [
       "0.884845415117229"
      ],
      "text/markdown": [
       "0.884845415117229"
      ],
      "text/plain": [
       "[1] 0.8848454"
      ]
     },
     "metadata": {},
     "output_type": "display_data"
    }
   ],
   "source": [
    "cor(height,weight)"
   ]
  },
  {
   "cell_type": "markdown",
   "metadata": {},
   "source": [
    "선형 회귀 분석에 적합하려면 먼저 데이터를 이해하고 두 변수 (체중과 신장) 사이에 상관 관계가 있는지 산점도로 확인하면  "
   ]
  },
  {
   "cell_type": "code",
   "execution_count": 3,
   "metadata": {},
   "outputs": [
    {
     "data": {
      "image/png": "[encoded data removed]",
      "text/plain": [
       "Plot with title “무게와 높이 차원에서 데이터 포인트 표시”"
      ]
     },
     "metadata": {},
     "output_type": "display_data"
    }
   ],
   "source": [
    "plot(height, weight, main=\"무게와 높이 차원에서 데이터 포인트 표시\")"
   ]
  },
  {
   "cell_type": "code",
   "execution_count": 4,
   "metadata": {},
   "outputs": [
    {
     "data": {
      "text/html": [
       "0.884845415117229"
      ],
      "text/latex": [
       "0.884845415117229"
      ],
      "text/markdown": [
       "0.884845415117229"
      ],
      "text/plain": [
       "[1] 0.8848454"
      ]
     },
     "metadata": {},
     "output_type": "display_data"
    }
   ],
   "source": [
    "cor(height,weight)"
   ]
  },
  {
   "cell_type": "markdown",
   "metadata": {},
   "source": [
    "inbuilt 유틸리티 나 선형 모델 유틸리티를 사용하여 계수 $b_0$와 $b_1$을 찾을 수 있음  "
   ]
  },
  {
   "cell_type": "code",
   "execution_count": 5,
   "metadata": {},
   "outputs": [],
   "source": [
    "#Fitting the linear model\n",
    "model <- lm(weight ~ height) # weight = slope*weight + intercept"
   ]
  },
  {
   "cell_type": "code",
   "execution_count": 6,
   "metadata": {},
   "outputs": [
    {
     "data": {
      "text/plain": [
       "\n",
       "Call:\n",
       "lm(formula = weight ~ height)\n",
       "\n",
       "Coefficients:\n",
       "(Intercept)       height  \n",
       "   -143.227        3.905  \n"
      ]
     },
     "metadata": {},
     "output_type": "display_data"
    }
   ],
   "source": [
    "#get the intercept(b0) and the slope(b1) values\n",
    "model"
   ]
  },
  {
   "cell_type": "markdown",
   "metadata": {},
   "source": [
    "다음 명령을 사용하여 lm 유틸리티가 계산 한 자세한 내용을 조금 더 알아볼 수 있음  "
   ]
  },
  {
   "cell_type": "code",
   "execution_count": 7,
   "metadata": {},
   "outputs": [
    {
     "data": {
      "text/html": [
       "<dl>\n",
       "\t<dt>$names</dt>\n",
       "\t\t<dd><ol class=list-inline>\n",
       "\t<li>'coefficients'</li>\n",
       "\t<li>'residuals'</li>\n",
       "\t<li>'effects'</li>\n",
       "\t<li>'rank'</li>\n",
       "\t<li>'fitted.values'</li>\n",
       "\t<li>'assign'</li>\n",
       "\t<li>'qr'</li>\n",
       "\t<li>'df.residual'</li>\n",
       "\t<li>'xlevels'</li>\n",
       "\t<li>'call'</li>\n",
       "\t<li>'terms'</li>\n",
       "\t<li>'model'</li>\n",
       "</ol>\n",
       "</dd>\n",
       "\t<dt>$class</dt>\n",
       "\t\t<dd>'lm'</dd>\n",
       "</dl>\n"
      ],
      "text/latex": [
       "\\begin{description}\n",
       "\\item[\\$names] \\begin{enumerate*}\n",
       "\\item 'coefficients'\n",
       "\\item 'residuals'\n",
       "\\item 'effects'\n",
       "\\item 'rank'\n",
       "\\item 'fitted.values'\n",
       "\\item 'assign'\n",
       "\\item 'qr'\n",
       "\\item 'df.residual'\n",
       "\\item 'xlevels'\n",
       "\\item 'call'\n",
       "\\item 'terms'\n",
       "\\item 'model'\n",
       "\\end{enumerate*}\n",
       "\n",
       "\\item[\\$class] 'lm'\n",
       "\\end{description}\n"
      ],
      "text/markdown": [
       "$names\n",
       ":   1. 'coefficients'\n",
       "2. 'residuals'\n",
       "3. 'effects'\n",
       "4. 'rank'\n",
       "5. 'fitted.values'\n",
       "6. 'assign'\n",
       "7. 'qr'\n",
       "8. 'df.residual'\n",
       "9. 'xlevels'\n",
       "10. 'call'\n",
       "11. 'terms'\n",
       "12. 'model'\n",
       "\n",
       "\n",
       "\n",
       "$class\n",
       ":   'lm'\n",
       "\n",
       "\n"
      ],
      "text/plain": [
       "$names\n",
       " [1] \"coefficients\"  \"residuals\"     \"effects\"       \"rank\"         \n",
       " [5] \"fitted.values\" \"assign\"        \"qr\"            \"df.residual\"  \n",
       " [9] \"xlevels\"       \"call\"          \"terms\"         \"model\"        \n",
       "\n",
       "$class\n",
       "[1] \"lm\"\n"
      ]
     },
     "metadata": {},
     "output_type": "display_data"
    }
   ],
   "source": [
    "#check all attributes calculated by lm\n",
    "attributes(model)"
   ]
  },
  {
   "cell_type": "code",
   "execution_count": 8,
   "metadata": {},
   "outputs": [
    {
     "name": "stdout",
     "output_type": "stream",
     "text": [
      "model$coefficients[1]:  -143.2266 \n",
      "model$coefficients[2]:  3.904675 \n",
      "residuals(model):  -13.58638 7.00299 -12.74861 1.013074 -0.7678614 2.488783 -5.272903 12.18448 -16.81552 11.85084 -6.083169 -16.67254 0.002990499 -4.434222 11.30913 17.42279 14.61344 3.317381 -4.82469 \n"
     ]
    }
   ],
   "source": [
    "#getting only the intercept\n",
    "cat(\"model$coefficients[1]: \", model$coefficients[1], \"\\n\")\n",
    "cat(\"model$coefficients[2]: \", model$coefficients[2], \"\\n\")\n",
    "cat(\"residuals(model): \", residuals(model), \"\\n\")"
   ]
  },
  {
   "cell_type": "code",
   "execution_count": 9,
   "metadata": {},
   "outputs": [
    {
     "name": "stdout",
     "output_type": "stream",
     "text": [
      "predict:  52.00709 \n"
     ]
    }
   ],
   "source": [
    "#predicting the weight for a given height, say 60 inches\n",
    "predictions = model$coefficients[[2]]*50 + model$coefficients[[1]]\n",
    "cat(\"predict: \", predictions, \"\\n\")"
   ]
  },
  {
   "cell_type": "code",
   "execution_count": 10,
   "metadata": {},
   "outputs": [
    {
     "data": {
      "text/plain": [
       "\n",
       "Call:\n",
       "lm(formula = weight ~ height)\n",
       "\n",
       "Residuals:\n",
       "    Min      1Q  Median      3Q     Max \n",
       "-16.816  -5.678   0.003   9.156  17.423 \n",
       "\n",
       "Coefficients:\n",
       "             Estimate Std. Error t value Pr(>|t|)    \n",
       "(Intercept) -143.2266    31.1802  -4.594 0.000259 ***\n",
       "height         3.9047     0.4986   7.831 4.88e-07 ***\n",
       "---\n",
       "Signif. codes:  0 ‘***’ 0.001 ‘**’ 0.01 ‘*’ 0.05 ‘.’ 0.1 ‘ ’ 1\n",
       "\n",
       "Residual standard error: 10.89 on 17 degrees of freedom\n",
       "Multiple R-squared:  0.783,\tAdjusted R-squared:  0.7702 \n",
       "F-statistic: 61.32 on 1 and 17 DF,  p-value: 4.876e-07\n"
      ]
     },
     "metadata": {},
     "output_type": "display_data"
    }
   ],
   "source": [
    "#detailed information about the model\n",
    "summary(model)"
   ]
  },
  {
   "cell_type": "code",
   "execution_count": 11,
   "metadata": {},
   "outputs": [
    {
     "data": {
      "image/png": "[encoded data removed]",
      "text/plain": [
       "Plot with title “Scatter plot with regression calculated regression line”"
      ]
     },
     "metadata": {},
     "output_type": "display_data"
    }
   ],
   "source": [
    "#plot data points\n",
    "plot(height,weight, \n",
    "     main=\"Scatter plot with regression calculated regression line\", \n",
    "     cex=0.4)\n",
    "\n",
    "#draw the regression line\n",
    "abline(model, col=\"red\")"
   ]
  },
  {
   "cell_type": "markdown",
   "metadata": {},
   "source": [
    "* 두 변수 사이의 관계를 식별 할 수있는 방법과 몇 줄의 코드를 사용하여 예측을 수행 할 수 있음  \n",
    "* 선형 회귀를 사용할지 여부를 결정하기 전에 이해해야하는 몇 가지주의 사항이 있음  "
   ]
  },
  {
   "cell_type": "markdown",
   "metadata": {},
   "source": [
    "## 2.3 선형회귀 주의사항"
   ]
  },
  {
   "cell_type": "markdown",
   "metadata": {},
   "source": [
    "• 산점도는 선형 패턴을 형성  \n",
    "• 그들 사이의 상관 관계는 중등도에서 강세 (0.5 또는 -0.5 이상)  \n",
    "\n",
    "이전 두 조건 중 하나만 충족되는 경우 예측이 잘못되거나 모두 잘못된 모델로 이어질 수 있음  \n",
    "\n",
    "* 예를 들어 상관 관계 만 확인하고 강점을 찾아 분산 형 플롯을 보는 단계를 건너 뛰면 데이터 자체가 다음과 같을 때 직선을 맞추려고했을 때 잘못된 예측이 발생할 수 있습니다 곡선 형 (곡선 형 데이터 세트는 또한 높은 상관 값을 가질 수 있음)  \n",
    "\n",
    "* 상관 관계가 인과관계를 나타내지 않음 \n",
    "* **cofounding 변수**라고하는 세 번째 변수로 인해 원인과 결과가 간접적으로 관련되는 경우가 있을 수 있음  \n",
    "* 이를 설명 하는 예는  \n",
    "    * 날씨가 더우면 아이스크림을 많이 먹음(상관관계 높음), 날씨가 더우면 벌레에 많이 물림(상관관계 높음) \n",
    "    * 그러나 아이스크림을 많이 먹는다고 벌레에 많이 물리는 것은 아님  \n",
    "\n",
    "* 선형 회귀 분석은 금융 분야에서 응용 분야를 찾아 투자에 대한 위험을 정량화하는 데 사용  \n",
    "* 또한 추세선 분석 등을 위해 경제 분야에서 널리 사용됨  \n",
    "\n",
    "**선형 회귀** 이외에 **로지스틱 회귀**, **단계별 회귀**, **다 변수 적응 회귀 스플라인(MARS)** 및 기타 여러 회귀 회귀 학습 알고리즘이 있음  "
   ]
  }
 ],
 "metadata": {
  "kernelspec": {
   "display_name": "R3.6.0",
   "language": "R",
   "name": "r_env"
  },
  "language_info": {
   "codemirror_mode": "r",
   "file_extension": ".r",
   "mimetype": "text/x-r-source",
   "name": "R",
   "pygments_lexer": "r",
   "version": "3.6.0"
  }
 },
 "nbformat": 4,
 "nbformat_minor": 2
}
