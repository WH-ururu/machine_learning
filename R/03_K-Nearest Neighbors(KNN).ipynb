{
 "cells": [
  {
   "cell_type": "markdown",
   "metadata": {},
   "source": [
    "# 03_K-Nearest Neighbors(KNN)"
   ]
  },
  {
   "cell_type": "raw",
   "metadata": {},
   "source": [
    "개념"
   ]
  },
  {
   "cell_type": "markdown",
   "metadata": {},
   "source": [
    "K-Nearest-Neighbors 또는 KNN 알고리즘은 구현 및 이해의 관점에서 가장 단순한 알고리즘 중 하나입니다. 이 것은 데이터를 분류하는 데 도움이되는 지도 학습 알고리즘 중 하나.  \n",
    "\n",
    "* KNN은 이웃에 대한 유사성을 기반으로 데이터 포인트에 라벨을 지정  \n",
    "* KNN은 레이블이 지정되지 않은 (또는 보이지 않는) 데이터 포인트에 가장 유사한 레이블이 붙은 데이터 포인트 (또는 훈련 샘플)의 클래스를 지정하여 분류하는 프로세스로 설명됨  \n",
    "\n",
    "---\n",
    "\n",
    "1. KNN은 지도학습 알고리즘이기 때문에 여러 클래스로 분류되는 예제의 학습 데이터 세트로 시작함. \n",
    "2. 그런 다음 알고리즘은 테스트 데이터 세트의 각 데이터 포인트를 선택하고 선택한 유사성 척도에 따라 k 개의 가장 가까운 이웃을 식별(k는 미리 지정됨). \n",
    "3. 그런 다음 데이터 포인트에 k 개의 가장 가까운 이웃의 대다수의 클래스가 지정됩니다."
   ]
  },
  {
   "cell_type": "markdown",
   "metadata": {},
   "source": [
    "* KNN의 능력을 올리는 트릭은 유사성 측정임  \n",
    "* 이용 가능한 다양한 유사성 척도가 있으며 하나를 선택하는 결정은 문제의 복잡성, 데이터 유형 등을 기반으로 함.  \n",
    "**유클리드 거리 (Euclidean distance)**는 널리 사용되는 측정법 중 하나임  \n",
    "**유클리드 거리는 두 점 사이의 최단 직선 경로**  \n",
    "* 수학적으로 다음과 같이 주어짐 :  \n",
    "\n",
    "$$Euclidean \\; - distance(p,\\,q)=\\sqrt{ \\sum^{n}_{i=1}{(q_{i}-p_{i})^{2}} }$$\n",
    "\n",
    "**맨해튼 거리**, **코사인 거리** 및 **민코프스키 거리**는 가장 가까운 이웃을 찾는 데 사용할 수있는 거리 측정의 다른 유형임  \n",
    "\n",
    "---\n",
    "\n",
    "* KNN 알고리즘의 주요 파라미터는 K-Nearest Neighbors의 $k$임. $k$ 값은 KNN 모델이 테스트 데이터로 얼마나 잘 일반화되는지를 결정. 훈련 데이터의 과대적합과 과소적합사이의 균형은 $k$의 값에 달려 있음  \n",
    "* 약간의 과정을 통해 큰 $k$는 노이즈가 많은 데이터로 인한 분산의 영향을 최소화하지만 동시에 중요한 패턴을 손상시킬 것임을 알아야 함. 이 문제를 **바이어스-분산 트레이드 오프**라고 함\n",
    "* $k$의 최적 값은 결정하기는 어렵지만 **$k = 1$**에서 **$k = 훈련 샘플의 총 수**$ 사이에 놓임. 일반적으로 $k$의 값을 훈련 인스턴스의 제곱근과 같게 설정하는 것이 관례이며, 일반적으로 3과 10 사이임  \n",
    "\n",
    "---\n",
    "\n",
    "* KNN 알고리즘은 또한 특성 스케일에 영향을 많이 받음  \n",
    "* 입력 벡터를 준비하는 데 사용되는 기능은 비슷한 척도를 사용해야 함  \n",
    "* 이 단계의 근거는 거리 수식이 형상을 측정하는 방법에 따라 달라짐  \n",
    "* 특정 특성이 다른 특성과 비교하여 넓은 범위의 값을 갖는 경우, 거리 측정치는 그러한 측정치에 의해 지배 됨. 유사한 스케일로 특성을 스케일하는 방법을 **정규화**라고합니다. 거리 측정과 매우 유사하게 다양한 정규화 방법을 사용할 수 있음  \n",
    "* 방법 중 하나는 min-max 정규화이며 수학적으로 다음과 같이 주어짐:  \n",
    "\n",
    "$$ x_{new} = \\frac{ x - min(x) }{ max(x) - min(x) } $$"
   ]
  },
  {
   "cell_type": "markdown",
   "metadata": {},
   "source": [
    "KNN의 수행단계"
   ]
  },
  {
   "cell_type": "markdown",
   "metadata": {},
   "source": [
    "**KNN의 수행단계는 다음과 같음**"
   ]
  },
  {
   "cell_type": "markdown",
   "metadata": {},
   "source": [
    "1. 데이터 수집 및 데이터 탐색 : 학습 할 개념과 관련된 데이터를 수집  \n",
    "2. 데이터 정규화 : KNN의 거리 측정에 대한 의존성은 계산에서 일관성 또는 편향을 없애기 위해 데이터를 표준화  \n",
    "3. 훈련 및 시험 데이터 세트 작성 \n",
    "4. 학습 : 훈련 데이터 세트, 테스트 데이터 세트, 레이블 및 $k$ 값을 사용하여 모델을 학습하고 테스트 데이터 세트의 데이터 포인트에 레이블을 붙일 수 있음  \n",
    "5. 모델 평가 : 마지막 단계는 학습 패턴을 평가  \n",
    "    * 분할표(confusion matrix)"
   ]
  },
  {
   "cell_type": "markdown",
   "metadata": {},
   "source": [
    "### setup"
   ]
  },
  {
   "cell_type": "code",
   "execution_count": 4,
   "metadata": {},
   "outputs": [],
   "source": [
    "library(repr)\n",
    "options(repr.plot.width=10, repr.plot.height=8)\n",
    "options(buildtools.check = function(action) TRUE )"
   ]
  },
  {
   "cell_type": "markdown",
   "metadata": {},
   "source": [
    "**iris 이미지**\n",
    "\n",
    "<img src=\"../sklearn/images/iris.png\" alt=\"Smiley face\">"
   ]
  },
  {
   "cell_type": "code",
   "execution_count": 5,
   "metadata": {},
   "outputs": [
    {
     "data": {
      "text/html": [
       "<table>\n",
       "<thead><tr><th scope=col>Sepal.Length</th><th scope=col>Sepal.Width</th><th scope=col>Petal.Length</th><th scope=col>Petal.Width</th><th scope=col>Species</th></tr></thead>\n",
       "<tbody>\n",
       "\t<tr><td>5.1   </td><td>3.5   </td><td>1.4   </td><td>0.2   </td><td>setosa</td></tr>\n",
       "\t<tr><td>4.9   </td><td>3.0   </td><td>1.4   </td><td>0.2   </td><td>setosa</td></tr>\n",
       "\t<tr><td>4.7   </td><td>3.2   </td><td>1.3   </td><td>0.2   </td><td>setosa</td></tr>\n",
       "\t<tr><td>4.6   </td><td>3.1   </td><td>1.5   </td><td>0.2   </td><td>setosa</td></tr>\n",
       "\t<tr><td>5.0   </td><td>3.6   </td><td>1.4   </td><td>0.2   </td><td>setosa</td></tr>\n",
       "\t<tr><td>5.4   </td><td>3.9   </td><td>1.7   </td><td>0.4   </td><td>setosa</td></tr>\n",
       "</tbody>\n",
       "</table>\n"
      ],
      "text/latex": [
       "\\begin{tabular}{r|lllll}\n",
       " Sepal.Length & Sepal.Width & Petal.Length & Petal.Width & Species\\\\\n",
       "\\hline\n",
       "\t 5.1    & 3.5    & 1.4    & 0.2    & setosa\\\\\n",
       "\t 4.9    & 3.0    & 1.4    & 0.2    & setosa\\\\\n",
       "\t 4.7    & 3.2    & 1.3    & 0.2    & setosa\\\\\n",
       "\t 4.6    & 3.1    & 1.5    & 0.2    & setosa\\\\\n",
       "\t 5.0    & 3.6    & 1.4    & 0.2    & setosa\\\\\n",
       "\t 5.4    & 3.9    & 1.7    & 0.4    & setosa\\\\\n",
       "\\end{tabular}\n"
      ],
      "text/markdown": [
       "\n",
       "| Sepal.Length | Sepal.Width | Petal.Length | Petal.Width | Species |\n",
       "|---|---|---|---|---|\n",
       "| 5.1    | 3.5    | 1.4    | 0.2    | setosa |\n",
       "| 4.9    | 3.0    | 1.4    | 0.2    | setosa |\n",
       "| 4.7    | 3.2    | 1.3    | 0.2    | setosa |\n",
       "| 4.6    | 3.1    | 1.5    | 0.2    | setosa |\n",
       "| 5.0    | 3.6    | 1.4    | 0.2    | setosa |\n",
       "| 5.4    | 3.9    | 1.7    | 0.4    | setosa |\n",
       "\n"
      ],
      "text/plain": [
       "  Sepal.Length Sepal.Width Petal.Length Petal.Width Species\n",
       "1 5.1          3.5         1.4          0.2         setosa \n",
       "2 4.9          3.0         1.4          0.2         setosa \n",
       "3 4.7          3.2         1.3          0.2         setosa \n",
       "4 4.6          3.1         1.5          0.2         setosa \n",
       "5 5.0          3.6         1.4          0.2         setosa \n",
       "6 5.4          3.9         1.7          0.4         setosa "
      ]
     },
     "metadata": {},
     "output_type": "display_data"
    }
   ],
   "source": [
    "#to view top few rows of data\n",
    "head(iris)"
   ]
  },
  {
   "cell_type": "code",
   "execution_count": 6,
   "metadata": {},
   "outputs": [
    {
     "name": "stdout",
     "output_type": "stream",
     "text": [
      "'data.frame':\t150 obs. of  5 variables:\n",
      " $ Sepal.Length: num  5.1 4.9 4.7 4.6 5 5.4 4.6 5 4.4 4.9 ...\n",
      " $ Sepal.Width : num  3.5 3 3.2 3.1 3.6 3.9 3.4 3.4 2.9 3.1 ...\n",
      " $ Petal.Length: num  1.4 1.4 1.3 1.5 1.4 1.7 1.4 1.5 1.4 1.5 ...\n",
      " $ Petal.Width : num  0.2 0.2 0.2 0.2 0.2 0.4 0.3 0.2 0.2 0.1 ...\n",
      " $ Species     : Factor w/ 3 levels \"setosa\",\"versicolor\",..: 1 1 1 1 1 1 1 1 1 1 ...\n"
     ]
    }
   ],
   "source": [
    "#to view data types, sample values, categorical values, etc\n",
    "str(iris)"
   ]
  },
  {
   "cell_type": "code",
   "execution_count": 7,
   "metadata": {},
   "outputs": [
    {
     "data": {
      "text/plain": [
       "  Sepal.Length    Sepal.Width     Petal.Length    Petal.Width   \n",
       " Min.   :4.300   Min.   :2.000   Min.   :1.000   Min.   :0.100  \n",
       " 1st Qu.:5.100   1st Qu.:2.800   1st Qu.:1.600   1st Qu.:0.300  \n",
       " Median :5.800   Median :3.000   Median :4.350   Median :1.300  \n",
       " Mean   :5.843   Mean   :3.057   Mean   :3.758   Mean   :1.199  \n",
       " 3rd Qu.:6.400   3rd Qu.:3.300   3rd Qu.:5.100   3rd Qu.:1.800  \n",
       " Max.   :7.900   Max.   :4.400   Max.   :6.900   Max.   :2.500  \n",
       "       Species  \n",
       " setosa    :50  \n",
       " versicolor:50  \n",
       " virginica :50  \n",
       "                \n",
       "                \n",
       "                "
      ]
     },
     "metadata": {},
     "output_type": "display_data"
    }
   ],
   "source": [
    "#detailed view of the data set\n",
    "summary(iris)"
   ]
  },
  {
   "cell_type": "code",
   "execution_count": 8,
   "metadata": {},
   "outputs": [
    {
     "name": "stderr",
     "output_type": "stream",
     "text": [
      "Registered S3 methods overwritten by 'ggplot2':\n",
      "  method         from \n",
      "  [.quosures     rlang\n",
      "  c.quosures     rlang\n",
      "  print.quosures rlang\n"
     ]
    },
    {
     "data": {
      "image/png": "[encoded data removed]",
      "text/plain": [
       "plot without title"
      ]
     },
     "metadata": {},
     "output_type": "display_data"
    }
   ],
   "source": [
    "# plotting\n",
    "library(ggplot2)\n",
    "ggplot(data=iris, aes(x = Sepal.Length, y = Sepal.Width)) + \n",
    "    geom_point(aes(color=Species, shape=Species)) +\n",
    "    xlab(\"Sepal Length\") +  ylab(\"Sepal Width\") +\n",
    "    ggtitle(\"Sepal Length-Width\") + \n",
    "    theme(plot.title = element_text(hjust = 0.5))"
   ]
  },
  {
   "cell_type": "code",
   "execution_count": 9,
   "metadata": {},
   "outputs": [],
   "source": [
    "#normalization function\n",
    "min_max_normalizer = function(x) \n",
    "{ \n",
    "  num = x - min(x) \n",
    "  denom = max(x) - min(x) \n",
    "  return (num/denom) \n",
    "}"
   ]
  },
  {
   "cell_type": "code",
   "execution_count": 10,
   "metadata": {},
   "outputs": [],
   "source": [
    "#normalizing iris data set\n",
    "normalized_iris = as.data.frame(lapply(iris[1:4], min_max_normalizer))"
   ]
  },
  {
   "cell_type": "code",
   "execution_count": 11,
   "metadata": {},
   "outputs": [
    {
     "data": {
      "text/plain": [
       "  Sepal.Length     Sepal.Width      Petal.Length     Petal.Width     \n",
       " Min.   :0.0000   Min.   :0.0000   Min.   :0.0000   Min.   :0.00000  \n",
       " 1st Qu.:0.2222   1st Qu.:0.3333   1st Qu.:0.1017   1st Qu.:0.08333  \n",
       " Median :0.4167   Median :0.4167   Median :0.5678   Median :0.50000  \n",
       " Mean   :0.4287   Mean   :0.4406   Mean   :0.4675   Mean   :0.45806  \n",
       " 3rd Qu.:0.5833   3rd Qu.:0.5417   3rd Qu.:0.6949   3rd Qu.:0.70833  \n",
       " Max.   :1.0000   Max.   :1.0000   Max.   :1.0000   Max.   :1.00000  "
      ]
     },
     "metadata": {},
     "output_type": "display_data"
    }
   ],
   "source": [
    "#viewing normalized data\n",
    "summary(normalized_iris)"
   ]
  },
  {
   "cell_type": "code",
   "execution_count": 12,
   "metadata": {},
   "outputs": [
    {
     "data": {
      "text/plain": [
       "\n",
       "    setosa versicolor  virginica \n",
       "        50         50         50 "
      ]
     },
     "metadata": {},
     "output_type": "display_data"
    }
   ],
   "source": [
    "#checking the data constituency\n",
    "table(iris$Species)"
   ]
  },
  {
   "cell_type": "code",
   "execution_count": 13,
   "metadata": {},
   "outputs": [],
   "source": [
    "#set seed for randomization\n",
    "set.seed(1234)\n",
    "\n",
    "# setting the training-test split to 67% and 37% respectively\n",
    "random_samples = sample(2, nrow(iris), replace=TRUE, prob=c(0.67, 0.33))"
   ]
  },
  {
   "cell_type": "code",
   "execution_count": 14,
   "metadata": {},
   "outputs": [],
   "source": [
    "# training data set\n",
    "iris.training = iris[\n",
    "  random_samples ==1, 1:4] \n",
    "\n",
    "#training labels\n",
    "iris.trainLabels = iris[\n",
    "  random_samples ==1, 5]"
   ]
  },
  {
   "cell_type": "code",
   "execution_count": 15,
   "metadata": {},
   "outputs": [],
   "source": [
    "# test data set\n",
    "iris.test = iris[\n",
    "  random_samples ==2, 1:4]\n",
    "\n",
    "#testing labels\n",
    "iris.testLabels = iris[\n",
    "  random_samples ==2, 5]"
   ]
  },
  {
   "cell_type": "code",
   "execution_count": 16,
   "metadata": {},
   "outputs": [],
   "source": [
    "#setting library\n",
    "library(class)\n",
    "\n",
    "#executing knn for k=3\n",
    "iris_model = knn(train = iris.training, test = iris.test, cl = iris.trainLabels, k=3)"
   ]
  },
  {
   "cell_type": "code",
   "execution_count": 17,
   "metadata": {},
   "outputs": [
    {
     "name": "stdout",
     "output_type": "stream",
     "text": [
      " [1] setosa     setosa     setosa     setosa     setosa     setosa    \n",
      " [7] setosa     setosa     setosa     setosa     setosa     setosa    \n",
      "[13] versicolor versicolor versicolor versicolor versicolor versicolor\n",
      "[19] versicolor versicolor versicolor versicolor versicolor versicolor\n",
      "[25] virginica  virginica  virginica  virginica  versicolor virginica \n",
      "[31] virginica  virginica  virginica  virginica  virginica  virginica \n",
      "[37] virginica  virginica  virginica  virginica \n",
      "Levels: setosa versicolor virginica\n"
     ]
    }
   ],
   "source": [
    "#summary of the model learnt\n",
    "print(iris_model)"
   ]
  },
  {
   "cell_type": "code",
   "execution_count": 18,
   "metadata": {},
   "outputs": [
    {
     "name": "stdout",
     "output_type": "stream",
     "text": [
      "\n",
      " \n",
      "   Cell Contents\n",
      "|-------------------------|\n",
      "|                       N |\n",
      "|           N / Row Total |\n",
      "|           N / Col Total |\n",
      "|         N / Table Total |\n",
      "|-------------------------|\n",
      "\n",
      " \n",
      "Total Observations in Table:  40 \n",
      "\n",
      " \n",
      "                | iris_model \n",
      "iris.testLabels |     setosa | versicolor |  virginica |  Row Total | \n",
      "----------------|------------|------------|------------|------------|\n",
      "         setosa |         12 |          0 |          0 |         12 | \n",
      "                |      1.000 |      0.000 |      0.000 |      0.300 | \n",
      "                |      1.000 |      0.000 |      0.000 |            | \n",
      "                |      0.300 |      0.000 |      0.000 |            | \n",
      "----------------|------------|------------|------------|------------|\n",
      "     versicolor |          0 |         12 |          0 |         12 | \n",
      "                |      0.000 |      1.000 |      0.000 |      0.300 | \n",
      "                |      0.000 |      0.923 |      0.000 |            | \n",
      "                |      0.000 |      0.300 |      0.000 |            | \n",
      "----------------|------------|------------|------------|------------|\n",
      "      virginica |          0 |          1 |         15 |         16 | \n",
      "                |      0.000 |      0.062 |      0.938 |      0.400 | \n",
      "                |      0.000 |      0.077 |      1.000 |            | \n",
      "                |      0.000 |      0.025 |      0.375 |            | \n",
      "----------------|------------|------------|------------|------------|\n",
      "   Column Total |         12 |         13 |         15 |         40 | \n",
      "                |      0.300 |      0.325 |      0.375 |            | \n",
      "----------------|------------|------------|------------|------------|\n",
      "\n",
      " \n"
     ]
    }
   ],
   "source": [
    "#setting library\n",
    "library(gmodels)\n",
    "\n",
    "#Preparing cross table\n",
    "CrossTable(x = iris.testLabels, y = iris_model, prop.chisq=FALSE)"
   ]
  }
 ],
 "metadata": {
  "kernelspec": {
   "display_name": "R3.6.0",
   "language": "R",
   "name": "r3.6.0"
  },
  "language_info": {
   "codemirror_mode": "r",
   "file_extension": ".r",
   "mimetype": "text/x-r-source",
   "name": "R",
   "pygments_lexer": "r",
   "version": "3.6.0"
  }
 },
 "nbformat": 4,
 "nbformat_minor": 2
}
