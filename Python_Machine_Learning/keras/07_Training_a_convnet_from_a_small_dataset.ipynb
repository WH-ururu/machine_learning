{
 "cells": [
  {
   "cell_type": "markdown",
   "metadata": {},
   "source": [
    "# 07_Training a convnet from scratch on a small dataset"
   ]
  },
  {
   "cell_type": "markdown",
   "metadata": {},
   "source": [
    "매우 적은 데이터를 사용하여 이미지 분류 모델을 훈련하는 일은 흔한 경우입니다. 보통 \"적은\" 샘플이란 수백 개에서 수만 개 사이를 의미합니다. 실용적인 예제로 강아지와 고양이사진으로 구성된 데이터셋에서 강아지와 고양이 이미지를 분류해 보겠습니다. 훈련을 위해 200개의 사진을 사용하고 검증과 테스트에 각각 100개의 사진을 사용합니다.  \n",
    "\n",
    "보유한 데이터셋을 사용하여 처음부터 새로운 모델을 훈련하겠습니다. 200개의 훈련 샘플에서 작은 컨브넷을 어떤 규제 방법도 사용하지 않고 훈련하여 기준이 되는 기본 성능을 만들겠습니다. 그 다음 컴퓨터 비전에서 과대 적합을 줄이기 위한 강력한 방법인 데이터 증식(data argumentation)을 사용하겠습니다. 데이터 증식을 사용하면 모델의 성능을 향상시킬 것입니다.  \n",
    "\n",
    "그다음으로 작은 데이터셋에 딥러닝을 적용하기 위한 핵심적인 기술 2가지를 더 알아보겠습니다. 사전 훈련된 네트워크로 특성을 추출하는 것과 사전 훈련된 네트워크를 세밀하게 튜닝하는 것입니다. 이런 전략은 작은 데이터셋에서 이미지 분류 문제를 수행할 때 포함되어 있어야 합니다."
   ]
  },
  {
   "cell_type": "markdown",
   "metadata": {},
   "source": [
    "## Setup"
   ]
  },
  {
   "cell_type": "code",
   "execution_count": 1,
   "metadata": {},
   "outputs": [],
   "source": [
    "# To support both python 2 and python 3\n",
    "from __future__ import division, print_function, unicode_literals\n",
    "from IPython.display import HTML\n",
    "\n",
    "# Common imports\n",
    "import numpy as np\n",
    "import os\n",
    "import tensorflow as tf\n",
    "\n",
    "import warnings\n",
    "warnings.filterwarnings(\"ignore\")\n",
    "\n",
    "# to make this notebook's output stable across runs\n",
    "def reset_graph(seed=42):\n",
    "    tf.reset_default_graph()\n",
    "    tf.set_random_seed(seed)\n",
    "    np.random.seed(seed)\n",
    "\n",
    "# To plot pretty figures\n",
    "%matplotlib inline\n",
    "import matplotlib\n",
    "import matplotlib.pyplot as plt\n",
    "plt.rcParams['axes.labelsize'] = 14\n",
    "plt.rcParams['xtick.labelsize'] = 12\n",
    "plt.rcParams['ytick.labelsize'] = 12\n",
    "\n",
    "import matplotlib.image as mpimg\n",
    "def plot_external(img):\n",
    "    img_name = os.path.join(\".\", \"images\",img)\n",
    "    plots = mpimg.imread(img_name)\n",
    "    plt.axis(\"off\")\n",
    "    plt.imshow(plots)    \n",
    "    plt.show()\n",
    "    \n",
    "def plot_external2(imgpath):    \n",
    "    plots = mpimg.imread(imgpath)\n",
    "    plt.axis(\"off\")\n",
    "    plt.imshow(plots)    \n",
    "    plt.show()  \n",
    "\n",
    "# batch function\n",
    "def shuffle_batch(X, y, batch_size):\n",
    "    rnd_idx = np.random.permutation(len(X))\n",
    "    n_batches = len(X) // batch_size\n",
    "    for batch_idx in np.array_split(rnd_idx, n_batches):\n",
    "        X_batch, y_batch = X[batch_idx], y[batch_idx]\n",
    "        yield X_batch, y_batch"
   ]
  },
  {
   "cell_type": "markdown",
   "metadata": {},
   "source": [
    "<br>\n",
    "\n",
    "## 7.1 The relevance of deep learning for small-data problems"
   ]
  },
  {
   "cell_type": "markdown",
   "metadata": {},
   "source": [
    "딥러닝은 데이터가 풍부할 때만 작동한다는 말이 있지만 꼭 그런 것은 아닙니다. 딥러닝의 근본적인 특징은 훈련 데이터에서 특성 공학의 수작업 없이 흥미로운 특성을 찾을 수 있는 것입니다. 이는 훈련 샘플이 많아야만 가능합니다. 입력 샘플이 이미지처럼 매우 고차원적인 문제에서는 특히 그렇습니다.  \n",
    "\n",
    "하지만 많은 샘플이 의미하는 것은 상대적입니다. 우선 훈련하려는 네트워크의 크기와 깊이에 상대적입니다. 복잡한 문제를 푸는 컨브넷을 수십 개의 샘플만 사용해서 훈련하는 것은 불가능합니다. 하지만 모델이 작고 규제가 잘 되어 있으며 간단한 작업이라면 수백 개의 샘플로도 충분할 수 있습니다. 컨브넷은 지역적이고 평행 이동으로 편하지 않는 특성을 학습하기 때문에 지각에 관한 문제에서 매우 효율적으로 데이터를 사용합니다. 매우 작은 이미지 데이터셋에서 어떤 종류의 특성 공학을 사용하지 않고 컨브넷을 처음부터 훈련해도 납득할 만한 결과를 만들 수 있습니다.  \n",
    "\n",
    "거기에 더하여 딥러닝 모델은 매우 다목적입니다. 말하자면 대규모 데이터셋에서 훈련시킨 이미지 분류모델이나 speech-to-text 모델을 조금만 변경해서 완전히 다른 문제에 재사용할 수 있습니다. 특히 컴퓨터 비전에서는 사전 훈련된 모델들이 내려받을 수 있도록 많이 공개되어 있어서 매우 적은 데이터에서 강력한 비전 모델을 만드는데 사용할 수 있습니다."
   ]
  },
  {
   "cell_type": "markdown",
   "metadata": {},
   "source": [
    "<br>\n",
    "\n",
    "## 7.2 Preparing the data"
   ]
  },
  {
   "cell_type": "markdown",
   "metadata": {},
   "source": [
    "컨브넷이 주류가 되기 전인 2013년 후반에 kaggle에서 컴퓨터 비전 경연 대회의 일환으로 이 데이터셋을 만들었습니다. 이 사진들은 중간 정도의 해상도를 가진 컬러 JPEG파일이며 그 샘플들은 아래와 같습니다."
   ]
  },
  {
   "cell_type": "code",
   "execution_count": null,
   "metadata": {},
   "outputs": [],
   "source": [
    "plt.figure(figsize=(12, 7))\n",
    "plt.title(\"강아지 vs 고양이, 이 샘플들은 원본 크기 그대로이며, 샘플들은 사이즈와 모습 등이 제각각임\", fontsize=14)\n",
    "plot_external2(\"./images/ch07/1.png\")\n",
    "plt.show()"
   ]
  },
  {
   "cell_type": "markdown",
   "metadata": {},
   "source": [
    "이 데이터셋은 2만 5000개의 이미지를 담고 있습니다. 이 데이터를 3개의 서브셋이 들어있는 새로운 데이터셋을 만들 것입니다. 클래스마다 500개의 샘플로 이루어진 훈련 세트, 클래스마다 250개의 샘플로 이루어진 검증 세트, 클래스마다 250개이 샘플로 이루어진 테스트 세트입니다."
   ]
  },
  {
   "cell_type": "code",
   "execution_count": 2,
   "metadata": {},
   "outputs": [],
   "source": [
    "import os, shutil"
   ]
  },
  {
   "cell_type": "code",
   "execution_count": 3,
   "metadata": {},
   "outputs": [],
   "source": [
    "def makedir(path):\n",
    "    if not os.path.isdir(path):\n",
    "        os.makedirs(path)\n",
    "        print(\"directory created!!\")\n",
    "    else:\n",
    "        print(\"directory exist!!\")"
   ]
  },
  {
   "cell_type": "code",
   "execution_count": 4,
   "metadata": {},
   "outputs": [
    {
     "name": "stdout",
     "output_type": "stream",
     "text": [
      "directory exist!!\n"
     ]
    }
   ],
   "source": [
    "original_dataset_dir = \"./datasets/dogs-vs-cats/train/\" # 원본 데이터 디렉터리\n",
    "base_dir = \"./datasets/dogs_and_cats_small\" # 소규모 데이터셋 디렉터리\n",
    "\n",
    "makedir(base_dir)    "
   ]
  },
  {
   "cell_type": "code",
   "execution_count": 5,
   "metadata": {},
   "outputs": [
    {
     "name": "stdout",
     "output_type": "stream",
     "text": [
      "directory exist!!\n",
      "directory exist!!\n",
      "directory exist!!\n"
     ]
    }
   ],
   "source": [
    "# 훈련/검증/테스트 분할을 위한 디렉터리\n",
    "train_dir = os.path.join(base_dir, \"train\")\n",
    "validation_dir = os.path.join(base_dir, \"validation\")\n",
    "test_dir = os.path.join(base_dir, \"test\")\n",
    "\n",
    "dirs = [train_dir, validation_dir, test_dir]\n",
    "for d in dirs:\n",
    "    makedir(d)"
   ]
  },
  {
   "cell_type": "code",
   "execution_count": 6,
   "metadata": {},
   "outputs": [
    {
     "name": "stdout",
     "output_type": "stream",
     "text": [
      "directory exist!!\n",
      "directory exist!!\n"
     ]
    }
   ],
   "source": [
    "# 훈련용 사진 디렉터리\n",
    "train_cats_dir = os.path.join(train_dir, \"cats\")\n",
    "train_dogs_dir = os.path.join(train_dir, \"dogs\")\n",
    "\n",
    "dirs = [train_cats_dir, train_dogs_dir]\n",
    "for d in dirs:\n",
    "    makedir(d)"
   ]
  },
  {
   "cell_type": "code",
   "execution_count": 7,
   "metadata": {},
   "outputs": [
    {
     "name": "stdout",
     "output_type": "stream",
     "text": [
      "directory exist!!\n",
      "directory exist!!\n"
     ]
    }
   ],
   "source": [
    "# 검증용 사진 디렉터리\n",
    "validation_cats_dir = os.path.join(validation_dir, \"cats\")\n",
    "validation_dogs_dir = os.path.join(validation_dir, \"dogs\")\n",
    "\n",
    "dirs = [validation_cats_dir, validation_dogs_dir]\n",
    "for d in dirs:\n",
    "    makedir(d)"
   ]
  },
  {
   "cell_type": "code",
   "execution_count": 8,
   "metadata": {},
   "outputs": [
    {
     "name": "stdout",
     "output_type": "stream",
     "text": [
      "directory exist!!\n",
      "directory exist!!\n"
     ]
    }
   ],
   "source": [
    "# 테스트용 사진 디렉터리\n",
    "test_cats_dir = os.path.join(test_dir, \"cats\")\n",
    "test_dogs_dir = os.path.join(test_dir, \"dogs\")\n",
    "\n",
    "dirs = [test_cats_dir, test_dogs_dir]\n",
    "for d in dirs:\n",
    "    makedir(d)"
   ]
  },
  {
   "cell_type": "markdown",
   "metadata": {},
   "source": [
    "<br>\n",
    "\n",
    "> 이미지 복사"
   ]
  },
  {
   "cell_type": "code",
   "execution_count": 57,
   "metadata": {},
   "outputs": [],
   "source": [
    "# 이미지가 있으면 삭제\n",
    "target_directories = [train_cats_dir, train_dogs_dir, \n",
    "                      validation_cats_dir, validation_dogs_dir,\n",
    "                      test_cats_dir, test_dogs_dir]\n",
    "for t in target_directories:\n",
    "    if os.path.exists(t):\n",
    "        for f in os.listdir(t):        \n",
    "            dst = os.path.join(t, f)\n",
    "            try: \n",
    "                os.remove(dst)\n",
    "            except:\n",
    "                shutil.rmtree(dst, ignore_errors=True)"
   ]
  },
  {
   "cell_type": "code",
   "execution_count": 60,
   "metadata": {},
   "outputs": [],
   "source": [
    "# 고양이 사진 복사\n",
    "fnames = [\"cat.{}.jpg\".format(i) for i in range(500)]\n",
    "for fname in fnames:\n",
    "    src = os.path.join(original_dataset_dir, fname)\n",
    "    dst = os.path.join(train_cats_dir, fname)    \n",
    "    shutil.copyfile(src, dst)\n",
    "\n",
    "fnames = [\"cat.{}.jpg\".format(i) for i in range(500, 750)]\n",
    "for fname in fnames:\n",
    "    src = os.path.join(original_dataset_dir, fname)\n",
    "    dst = os.path.join(validation_cats_dir, fname)\n",
    "    shutil.copyfile(src, dst)\n",
    "\n",
    "fnames = [\"cat.{}.jpg\".format(i) for i in range(750, 1000)]\n",
    "for fname in fnames:\n",
    "    src = os.path.join(original_dataset_dir, fname)\n",
    "    dst = os.path.join(test_cats_dir, fname)\n",
    "    shutil.copyfile(src, dst)    \n",
    "    \n",
    "# 강아지 사진 복사\n",
    "fnames = [\"dog.{}.jpg\".format(i) for i in range(500)]\n",
    "for fname in fnames:\n",
    "    src = os.path.join(original_dataset_dir, fname)\n",
    "    dst = os.path.join(train_dogs_dir, fname)\n",
    "    shutil.copyfile(src, dst)\n",
    "\n",
    "fnames = [\"dog.{}.jpg\".format(i) for i in range(500, 750)]\n",
    "for fname in fnames:\n",
    "    src = os.path.join(original_dataset_dir, fname)\n",
    "    dst = os.path.join(validation_dogs_dir, fname)\n",
    "    shutil.copyfile(src, dst)\n",
    "\n",
    "fnames = [\"dog.{}.jpg\".format(i) for i in range(750, 1000)]\n",
    "for fname in fnames:\n",
    "    src = os.path.join(original_dataset_dir, fname)\n",
    "    dst = os.path.join(test_dogs_dir, fname)\n",
    "    shutil.copyfile(src, dst)    "
   ]
  },
  {
   "cell_type": "markdown",
   "metadata": {},
   "source": [
    "<br>\n",
    "\n",
    "> 복사가 잘 되었는지 확인"
   ]
  },
  {
   "cell_type": "code",
   "execution_count": 61,
   "metadata": {},
   "outputs": [
    {
     "name": "stdout",
     "output_type": "stream",
     "text": [
      "훈련용 고양이 이미지 전체 갯수: 500\n",
      "훈련용 강아지 이미지 전체 갯수: 500\n",
      "검증용 고양이 이미지 전체 갯수: 250\n",
      "검증용 강아지 이미지 전체 갯수: 250\n",
      "테스트 고양이 이미지 전체 갯수: 250\n",
      "테스트 강아지 이미지 전체 갯수: 250\n"
     ]
    }
   ],
   "source": [
    "print(\"훈련용 고양이 이미지 전체 갯수: {}\".format(len(os.listdir(train_cats_dir))))\n",
    "print(\"훈련용 강아지 이미지 전체 갯수: {}\".format(len(os.listdir(train_dogs_dir))))\n",
    "print(\"검증용 고양이 이미지 전체 갯수: {}\".format(len(os.listdir(validation_cats_dir))))\n",
    "print(\"검증용 강아지 이미지 전체 갯수: {}\".format(len(os.listdir(validation_dogs_dir))))\n",
    "print(\"테스트 고양이 이미지 전체 갯수: {}\".format(len(os.listdir(test_cats_dir))))\n",
    "print(\"테스트 강아지 이미지 전체 갯수: {}\".format(len(os.listdir(test_dogs_dir))))"
   ]
  },
  {
   "cell_type": "markdown",
   "metadata": {},
   "source": [
    "이제 200개의 훈련이미지, 50개의 검증 이미지, 50개의 테스트 이미지가 준비되었습니다. 분할된 각 데이터는 클래스마다 동일한 갯수의 샘플을 포함합니다. 균형 잡힌 이진 분류 문제이므로 정확도를 사용하여 성공을 측정하겠습니다.\n"
   ]
  },
  {
   "cell_type": "markdown",
   "metadata": {},
   "source": [
    "<br>\n",
    "\n",
    "## 7.3 Building your network"
   ]
  },
  {
   "cell_type": "markdown",
   "metadata": {},
   "source": [
    "Conv2D(relu 활성화 함수 사용)와 MaxPooling2D 층을 번갈아 쌓은 컨브넷을 만들겠습니다.  \n",
    "\n",
    "이미지가 크고 복잡한 문제이기 때문에 네트워크를 좀 더 크게 만들겠습니다.  \n",
    "Conv2D + MaxPooling2D 단계를 하나 더 추가합니다. 이렇게 하면 네트워크의 용량을 늘리고 Flatten 층의 크기가 너무 너무 커지지 않도록 특성 맵의 크기를 줄일 수 있습니다. 150X150 크기(임의로 선택한 것)의 입력으로 시적해서 Flatten 층 이전에 7x7 크기의 특성 맵으로 줄어듭니다.  \n",
    "\n",
    "이진 분류 문제이므로 네트워크는 하나의 유닛(크기가 1인 Dense층)과 sigmoid 활성화 함수로 끝납니다. 이 유닛은 한 클래스에 대한 확률을 인코딩합니다."
   ]
  },
  {
   "cell_type": "code",
   "execution_count": 62,
   "metadata": {},
   "outputs": [],
   "source": [
    "from tensorflow.keras import layers\n",
    "from tensorflow.keras import models"
   ]
  },
  {
   "cell_type": "code",
   "execution_count": 63,
   "metadata": {},
   "outputs": [
    {
     "name": "stderr",
     "output_type": "stream",
     "text": [
      "WARNING: Logging before flag parsing goes to stderr.\n",
      "W0802 18:24:42.432423 139772909860672 deprecation.py:506] From /opt/conda/envs/py36/lib/python3.6/site-packages/tensorflow/python/ops/init_ops.py:1251: calling VarianceScaling.__init__ (from tensorflow.python.ops.init_ops) with dtype is deprecated and will be removed in a future version.\n",
      "Instructions for updating:\n",
      "Call initializer instance with the dtype argument instead of passing it to the constructor\n"
     ]
    }
   ],
   "source": [
    "tf.keras.backend.clear_session()\n",
    "model = models.Sequential()\n",
    "model.add(layers.Conv2D(32, (3, 3), activation=\"relu\", input_shape=(150, 150, 3)))\n",
    "model.add(layers.MaxPool2D((2, 2)))\n",
    "\n",
    "model.add(layers.Conv2D(64, (3, 3), activation=\"relu\"))\n",
    "model.add(layers.MaxPool2D((2, 2)))\n",
    "\n",
    "model.add(layers.Conv2D(128, (3, 3), activation=\"relu\"))\n",
    "model.add(layers.MaxPool2D((2, 2)))\n",
    "\n",
    "model.add(layers.Conv2D(128, (3, 3), activation=\"relu\"))\n",
    "model.add(layers.MaxPool2D((2, 2)))\n",
    "\n",
    "model.add(layers.Flatten())\n",
    "model.add(layers.Dense(512, activation=\"relu\"))\n",
    "model.add(layers.Dense(1, activation=\"sigmoid\"))"
   ]
  },
  {
   "cell_type": "code",
   "execution_count": 64,
   "metadata": {},
   "outputs": [
    {
     "name": "stdout",
     "output_type": "stream",
     "text": [
      "Model: \"sequential\"\n",
      "_________________________________________________________________\n",
      "Layer (type)                 Output Shape              Param #   \n",
      "=================================================================\n",
      "conv2d (Conv2D)              (None, 148, 148, 32)      896       \n",
      "_________________________________________________________________\n",
      "max_pooling2d (MaxPooling2D) (None, 74, 74, 32)        0         \n",
      "_________________________________________________________________\n",
      "conv2d_1 (Conv2D)            (None, 72, 72, 64)        18496     \n",
      "_________________________________________________________________\n",
      "max_pooling2d_1 (MaxPooling2 (None, 36, 36, 64)        0         \n",
      "_________________________________________________________________\n",
      "conv2d_2 (Conv2D)            (None, 34, 34, 128)       73856     \n",
      "_________________________________________________________________\n",
      "max_pooling2d_2 (MaxPooling2 (None, 17, 17, 128)       0         \n",
      "_________________________________________________________________\n",
      "conv2d_3 (Conv2D)            (None, 15, 15, 128)       147584    \n",
      "_________________________________________________________________\n",
      "max_pooling2d_3 (MaxPooling2 (None, 7, 7, 128)         0         \n",
      "_________________________________________________________________\n",
      "flatten (Flatten)            (None, 6272)              0         \n",
      "_________________________________________________________________\n",
      "dense (Dense)                (None, 512)               3211776   \n",
      "_________________________________________________________________\n",
      "dense_1 (Dense)              (None, 1)                 513       \n",
      "=================================================================\n",
      "Total params: 3,453,121\n",
      "Trainable params: 3,453,121\n",
      "Non-trainable params: 0\n",
      "_________________________________________________________________\n"
     ]
    }
   ],
   "source": [
    "model.summary()"
   ]
  },
  {
   "cell_type": "markdown",
   "metadata": {},
   "source": [
    "<br>\n",
    "\n",
    "컴파일 단계에서는 Adam 옵티마이저를 선택하겠습니다. 네트워크의 마지막이 하나의 시그모이드 유닛이기 때문에 binary crossentropy를 손실로 사용합니다."
   ]
  },
  {
   "cell_type": "code",
   "execution_count": 65,
   "metadata": {},
   "outputs": [],
   "source": [
    "from tensorflow.keras import optimizers, losses, metrics"
   ]
  },
  {
   "cell_type": "code",
   "execution_count": 66,
   "metadata": {},
   "outputs": [
    {
     "name": "stderr",
     "output_type": "stream",
     "text": [
      "W0802 18:24:48.979452 139772909860672 deprecation.py:323] From /opt/conda/envs/py36/lib/python3.6/site-packages/tensorflow/python/ops/nn_impl.py:180: add_dispatch_support.<locals>.wrapper (from tensorflow.python.ops.array_ops) is deprecated and will be removed in a future version.\n",
      "Instructions for updating:\n",
      "Use tf.where in 2.0, which has the same broadcast rule as np.where\n"
     ]
    }
   ],
   "source": [
    "model.compile(optimizer=optimizers.Adam(lr=1e-4), \n",
    "              loss=losses.binary_crossentropy,\n",
    "              metrics=[metrics.binary_accuracy])"
   ]
  },
  {
   "cell_type": "code",
   "execution_count": 67,
   "metadata": {},
   "outputs": [],
   "source": [
    "class LossAndErrorPrintingCallback(tf.keras.callbacks.Callback):\n",
    "    def __init__(self, epochs):\n",
    "        self.epochs = epochs\n",
    "    def on_epoch_begin(self, epoch, logs=None):\n",
    "        self.epoch = epoch                \n",
    "              \n",
    "    def on_train_batch_end(self, batch, logs=None):        \n",
    "        print('\\repoch: {}, loss {:.5f}'.format(self.epoch+1, logs['loss']), end=\" \")\n",
    "              \n",
    "    def on_epoch_end(self, epoch, logs=None):        \n",
    "        if epoch == 0:\n",
    "            print(\"\\nhistory key: {}\".format(list(logs.keys())))\n",
    "\n",
    "        if (epoch+1) % 5 == 0 or epoch+1 == self.epochs:\n",
    "            print(\"\\rEpoch {}/{}\".format(epoch+1, self.epochs), end=\" \")\n",
    "            print(\"loss: {:.5f}\".format(logs[\"loss\"]), end=\" \")\n",
    "            print(\"acc: {:.5f}\".format(logs[\"binary_accuracy\"]), end=\" \")\n",
    "            print(\"val_loss: {:.5f}\".format(logs[\"val_loss\"]), end=\" \")\n",
    "            print(\"val_acc: {:.5f}\".format(logs[\"val_binary_accuracy\"]))"
   ]
  },
  {
   "cell_type": "markdown",
   "metadata": {},
   "source": [
    "<br>\n",
    "\n",
    "## 7.4 Data preprocessing"
   ]
  },
  {
   "cell_type": "markdown",
   "metadata": {},
   "source": [
    "데이터는 네트워크에 주입되기 전에 부동 소수 타입이 텐서로 전처리되어 있어야 합니다. 지금은 데이터가 JPEG파일로 되어 있으므로 네트워크에 주입하려면 대략 다음과정을 따릅니다.  \n",
    "\n",
    "- 사진파일을 읽습니다.  \n",
    "- JPEG 콘텐츠를 RGB픽셀값으로 디코딩합니다.  \n",
    "- 그다음 부동 소수 타입의 텐서로 변환합니다.  \n",
    "- 픽셀 값(0에서 255사이)의 스케일을 [0,1]사이로 조정합니다(신경망은 작은 입력 값을 선호합니다).  \n",
    "\n",
    "케라스에서는 이런 단계를 처리하는 유틸리티가 있습니다."
   ]
  },
  {
   "cell_type": "code",
   "execution_count": 68,
   "metadata": {},
   "outputs": [],
   "source": [
    "from tensorflow.keras.preprocessing.image import ImageDataGenerator"
   ]
  },
  {
   "cell_type": "code",
   "execution_count": 69,
   "metadata": {},
   "outputs": [],
   "source": [
    "# 이미지를 1/255로 스케일을 조정\n",
    "train_datagenerator = ImageDataGenerator(rescale=1./255)\n",
    "test_datagenerator = ImageDataGenerator(rescale=1./255)"
   ]
  },
  {
   "cell_type": "code",
   "execution_count": 70,
   "metadata": {},
   "outputs": [
    {
     "name": "stdout",
     "output_type": "stream",
     "text": [
      "Found 1000 images belonging to 2 classes.\n"
     ]
    }
   ],
   "source": [
    "train_generator = train_datagenerator.flow_from_directory(\n",
    "    train_dir, # 타깃디렉터리\n",
    "    target_size=(150, 150), # 모든 이미지를 150x150 크기로 바꿉니다.\n",
    "    batch_size=20,\n",
    "    class_mode = \"binary\" # binary, sparse(정수 레이블을 담은 1차원 배열을 리턴), categorical(원핫인코딩 된 2차원 배열을 리턴)\n",
    ")"
   ]
  },
  {
   "cell_type": "code",
   "execution_count": 71,
   "metadata": {},
   "outputs": [
    {
     "name": "stdout",
     "output_type": "stream",
     "text": [
      "Found 500 images belonging to 2 classes.\n"
     ]
    }
   ],
   "source": [
    "validation_generator = test_datagenerator.flow_from_directory(\n",
    "    validation_dir, # 타깃디렉터리\n",
    "    target_size=(150, 150), # 모든 이미지를 150x150 크기로 바꿉니다.\n",
    "    batch_size=20,\n",
    "    class_mode = \"binary\" # binary, sparse(정수 레이블을 담은 1차원 배열을 리턴), categorical(원핫인코딩 된 2차원 배열을 리턴)\n",
    ")"
   ]
  },
  {
   "cell_type": "markdown",
   "metadata": {},
   "source": [
    "<br>\n",
    "\n",
    "이 제너레이터의 출력 하나를 살펴보겠습니다. 이 출력은 150x150 RGB 이미지의 배치(20, 150, 150, 3)크기와  이진 레이블의 배치((20, ) 크기)입니다. 각 배치에는 20개의 샘플(배치 크기)이 있습니다. 제너레이터는 이 배치를 무한정 만들어 냅니다. 타깃 폴더에 있는 이미지를 끝없이 반복합니다. 따라서 break문을 사용해서 중간에 일시정지 해야합니다."
   ]
  },
  {
   "cell_type": "code",
   "execution_count": 72,
   "metadata": {},
   "outputs": [
    {
     "name": "stdout",
     "output_type": "stream",
     "text": [
      "배치 데이터 크기: (20, 150, 150, 3)\n",
      "배치 레이블 크기: (20,)\n"
     ]
    }
   ],
   "source": [
    "for data_batch, labels_batch in train_generator:\n",
    "    print(\"배치 데이터 크기: {}\".format(data_batch.shape))\n",
    "    print(\"배치 레이블 크기: {}\".format(labels_batch.shape))\n",
    "    break"
   ]
  },
  {
   "cell_type": "markdown",
   "metadata": {},
   "source": [
    "<br>\n",
    "\n",
    "제너레이터를 사용한 데이터에 모델을 훈련시켜 보겠습니다. fit_generator 메서드는 fit 메서드와 동일하지만 데이터 제너레이터를 사용할 수 있습니다. 이 메서드는 첫 번째 매개변수로 입력과 타깃의 배치를 끝없이 반환하는 파이썬 제너레이터를 사용합니다. 데이터가 끝없이 생성되기 때문에 케라스 모델에 하나의 에포크를 정의하기 위해 재러네이터로부터 얼마나 많은 샘플을 뽑을 것인지 알려주어야 합니다. steps_per_epoch 매개변수에서 이를 설정합니다. 제너레이터로부터 steps_per_epoch개의 배치만큼 뽑은 후 즉 steps_per_epoch 횟수만큼 경사하강법 단계를 실행한 후에 훈련 프로세스는 다음 에포크로 넘어갑니다. 여기서는 20개의 샘플이 하나의 배치이므로 1000개의 샘플을 모두 처리할때까지 50개의 배치를 뽑을 것입니다.  \n",
    "\n",
    "fit_generator를 사용할 때 fit 매서드와 마찬가지로 validation_data 매개변수를 전달할 수 있습니다. 이 매개변수에는 데이터 재너레이터도 가능하지만 넘파이 배열의 튜플도 가능합니다. validation_data로 제너레이터를 전달하면 검증 데이터의 배치를 끝없이 반환합니다 따라서 검증 데이터 제너레이터에서 알마나 많은 배치를 추출하여 평가할지 validation_steps 매개변수에 지정해야합니다.  \n",
    "\n",
    "validation_generator의 배치가 20개로 지정되었으므로 전체 검증 데이터 500개를 사용하려면 validation_steps를 25로 설정합니다."
   ]
  },
  {
   "cell_type": "code",
   "execution_count": 73,
   "metadata": {},
   "outputs": [],
   "source": [
    "n_epoch = 30"
   ]
  },
  {
   "cell_type": "code",
   "execution_count": 74,
   "metadata": {},
   "outputs": [
    {
     "name": "stdout",
     "output_type": "stream",
     "text": [
      "epoch: 1, loss 0.66644 \n",
      "history key: ['loss', 'binary_accuracy', 'val_loss', 'val_binary_accuracy']\n",
      "Epoch 5/30 loss: 0.56688 acc: 0.71700 val_loss: 0.61053 val_acc: 0.65800\n",
      "Epoch 10/30 loss: 0.33312 acc: 0.86600 val_loss: 0.68405 val_acc: 0.70000\n",
      "Epoch 15/30 loss: 0.17852 acc: 0.94100 val_loss: 0.74975 val_acc: 0.70800\n",
      "Epoch 20/30 loss: 0.08545 acc: 0.98000 val_loss: 0.98422 val_acc: 0.68400\n",
      "Epoch 25/30 loss: 0.03375 acc: 0.99600 val_loss: 1.07661 val_acc: 0.69200\n",
      "Epoch 30/30 loss: 0.00978 acc: 1.00000 val_loss: 1.31522 val_acc: 0.69600\n"
     ]
    }
   ],
   "source": [
    "history = model.fit_generator(\n",
    "    train_generator,\n",
    "    steps_per_epoch=50,\n",
    "    epochs=n_epoch,\n",
    "    validation_data=validation_generator,\n",
    "    validation_steps=25,\n",
    "    verbose=0,\n",
    "    callbacks=[LossAndErrorPrintingCallback(n_epoch)])"
   ]
  },
  {
   "cell_type": "code",
   "execution_count": 78,
   "metadata": {},
   "outputs": [
    {
     "name": "stdout",
     "output_type": "stream",
     "text": [
      "directory exist!!\n"
     ]
    }
   ],
   "source": [
    "makedir(\"models/ch7_small_data\")\n",
    "model.save(\"models/ch7_small_data/cats_and_dogs_small_1.h5\")"
   ]
  },
  {
   "cell_type": "code",
   "execution_count": 79,
   "metadata": {},
   "outputs": [
    {
     "data": {
      "image/png": "[encoded data removed]",
      "text/plain": [
       "<Figure size 1440x576 with 2 Axes>"
      ]
     },
     "metadata": {
      "needs_background": "light"
     },
     "output_type": "display_data"
    }
   ],
   "source": [
    "# ['loss', 'sparse_categorical_accuracy', 'val_loss', 'val_sparse_categorical_accuracy']\n",
    "history_dict = history.history\n",
    "loss = history_dict[\"loss\"]\n",
    "val_loss = history_dict[\"val_loss\"]\n",
    "\n",
    "acc = history_dict[\"binary_accuracy\"]\n",
    "val_acc = history_dict[\"val_binary_accuracy\"]\n",
    "\n",
    "epochs = range(1, len(loss)+1)\n",
    "\n",
    "plt.figure(figsize=(20, 8))\n",
    "plt.subplot(121)\n",
    "plt.plot(epochs, loss, \"bo-\", label=\"training loss\")\n",
    "plt.plot(epochs, val_loss, \"ro--\", markerfacecolor=\"red\", markeredgecolor=\"red\", label=\"validation loss\")\n",
    "plt.title(\"Training and validation loss\")\n",
    "plt.xlabel(\"Epochs\")\n",
    "plt.ylabel(\"Loss\")\n",
    "plt.legend()\n",
    "\n",
    "plt.subplot(122)\n",
    "plt.plot(epochs, acc, \"bo-\", label=\"training accuracy\")\n",
    "plt.plot(epochs, val_acc, \"ro--\", markerfacecolor=\"red\", markeredgecolor=\"red\", label=\"validation accuracy\")\n",
    "plt.xlabel(\"Epochs\")\n",
    "plt.ylabel(\"Accuracy\")\n",
    "plt.title(\"Training and Validation accuracy\")\n",
    "plt.legend()\n",
    "\n",
    "plt.tight_layout()\n",
    "plt.show()"
   ]
  },
  {
   "cell_type": "markdown",
   "metadata": {},
   "source": [
    "이 그래프는 과대적합의 특성을 보여줍니다. 훈련 정확도가 시간이 지남에 따라 선형적으로 증가하에서 거의 100%에 도달합니다. 반면에 검증정확도는 70~72%에서 멈추었습니다. 검증 손실은 다섯 번의 에포크만에 최솟값에 다다른 이후 더이상 진전되지 않았습니다. 반면에 훈련 손실을 거의 0에 도달할 때까지 선형적으로 계속 감소합니다.  \n",
    "\n",
    "비교적 훈련 샘플의 수(1,000개)가 적기 때문에 과대적합이 가장 중요한 문제입니다. 드롭아웃이나 가중치 감소(L2규제)처럼 과대적합을 감소시킬 수 있는 여러 가지 기법들을 활용할 수 있습니다.\n",
    "이번에는 컴퓨터 비전에 특화되어 있어서 딥러닝으로 이미지를 다룰 때 매우 일반적으로 사용되는 새로운 방법인 데이터 증식을 시도해 보겠습니다."
   ]
  }
 ],
 "metadata": {
  "kernelspec": {
   "display_name": "py36",
   "language": "python",
   "name": "py36"
  },
  "language_info": {
   "codemirror_mode": {
    "name": "ipython",
    "version": 3
   },
   "file_extension": ".py",
   "mimetype": "text/x-python",
   "name": "python",
   "nbconvert_exporter": "python",
   "pygments_lexer": "ipython3",
   "version": "3.6.9"
  }
 },
 "nbformat": 4,
 "nbformat_minor": 4
}
