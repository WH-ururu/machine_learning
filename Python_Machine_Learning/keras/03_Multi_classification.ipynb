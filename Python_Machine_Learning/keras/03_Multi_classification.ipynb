{
 "cells": [
  {
   "cell_type": "markdown",
   "metadata": {},
   "source": [
    "# 03_Multi_classification"
   ]
  },
  {
   "cell_type": "markdown",
   "metadata": {},
   "source": [
    "로이터(Reuter) 뉴스를 46개의 상호 배타적인 토픽으로 분류하는 신경망을 만들겠습니다. 클래스가 많기 때문에 이 문제는 다중 분류의 예입니다. 각 데이터 포인트가 정확히 하나의 범주로 분류되기 때문에 좀 더 정확히 말하면 단일 레이블 다중 분류문제입니다. 각 데이터 포인트가 여러 개의 범주에 속할 수 있다면 이 것은 다중 레이블 다중 분류 문제가 됩니다."
   ]
  },
  {
   "cell_type": "markdown",
   "metadata": {},
   "source": [
    "## Setup"
   ]
  },
  {
   "cell_type": "code",
   "execution_count": 1,
   "metadata": {},
   "outputs": [],
   "source": [
    "from __future__ import division, print_function, unicode_literals\n",
    "from IPython.display import HTML\n",
    "\n",
    "# Common imports\n",
    "import numpy as np\n",
    "import os\n",
    "import tensorflow as tf\n",
    "\n",
    "# to make this notebook's output stable across runs\n",
    "def reset_graph(seed=42):\n",
    "    tf.reset_default_graph()\n",
    "    tf.set_random_seed(seed)\n",
    "    np.random.seed(seed)\n",
    "\n",
    "# To plot pretty figures\n",
    "%matplotlib inline\n",
    "import matplotlib\n",
    "import matplotlib.pyplot as plt\n",
    "plt.rcParams['axes.labelsize'] = 14\n",
    "plt.rcParams['xtick.labelsize'] = 12\n",
    "plt.rcParams['ytick.labelsize'] = 12\n",
    "\n",
    "import matplotlib.image as mpimg\n",
    "def plot_external(img):\n",
    "    img_name = os.path.join(\".\", \"images\",img)\n",
    "    plots = mpimg.imread(img_name)\n",
    "    plt.axis(\"off\")\n",
    "    plt.imshow(plots)    \n",
    "    plt.show()\n",
    "\n",
    "def plot_external2(imgpath):    \n",
    "    plots = mpimg.imread(imgpath)\n",
    "    plt.axis(\"off\")\n",
    "    plt.imshow(plots)    \n",
    "    plt.show()  \n",
    "\n",
    "# batch function\n",
    "def shuffle_batch(X, y, batch_size):\n",
    "    rnd_idx = np.random.permutation(len(X))\n",
    "    n_batches = len(X) // batch_size\n",
    "    for batch_idx in np.array_split(rnd_idx, n_batches):\n",
    "        X_batch, y_batch = X[batch_idx], y[batch_idx]\n",
    "        yield X_batch, y_batch"
   ]
  },
  {
   "cell_type": "markdown",
   "metadata": {},
   "source": [
    "<br>\n",
    "\n",
    "## 3.1 The Reuters dataset"
   ]
  },
  {
   "cell_type": "markdown",
   "metadata": {},
   "source": [
    "1996년에 로이터에서 공개한 짧은 뉴스 기사와 토픽의 집합인 로이터 데이터셋을 사용하겠습니다(원본 로이터셋의 135개 토픽 중에서 샘플이 많은 것을 뽑아 간단하게 만든 것입니다). 이 데이터셋은 텍스트 분류를 위해 널리 사용되는 간단한 데이터셋입니다. 46개의 토픽이 있으며 어떤 토픽은 다른 것에 비해 데이터가 많습니다. 각 토픽은 훈련 세트에 최소한 10개의 샘플을 가지고 있습니다."
   ]
  },
  {
   "cell_type": "code",
   "execution_count": 2,
   "metadata": {},
   "outputs": [],
   "source": [
    "import tensorflow as tf\n",
    "from tensorflow.keras.datasets import reuters\n",
    "\n",
    "(train_data, train_labels), (test_data, test_labels) = reuters.load_data(num_words=10000)"
   ]
  },
  {
   "cell_type": "markdown",
   "metadata": {},
   "source": [
    "num_words = 10000 매개변수는 데이터에서 가장 자주 등장하는 단어 1만개로 제한합니다. \n",
    "\n"
   ]
  },
  {
   "cell_type": "code",
   "execution_count": 3,
   "metadata": {},
   "outputs": [
    {
     "name": "stdout",
     "output_type": "stream",
     "text": [
      "train_data의 길이: 8982\n",
      "test_data의 길이: 2246\n"
     ]
    }
   ],
   "source": [
    "print(\"train_data의 길이: {}\".format(len(train_data)))\n",
    "print(\"test_data의 길이: {}\".format(len(test_data)))"
   ]
  },
  {
   "cell_type": "markdown",
   "metadata": {},
   "source": [
    "<br>\n",
    "각 샘플은 정수 리스트입니다."
   ]
  },
  {
   "cell_type": "code",
   "execution_count": 4,
   "metadata": {},
   "outputs": [
    {
     "data": {
      "text/plain": [
       "array([   1,  245,  273,  207,  156,   53,   74,  160,   26,   14,   46,\n",
       "        296,   26,   39,   74, 2979, 3554,   14,   46, 4689, 4329,   86,\n",
       "         61, 3499, 4795,   14,   61,  451, 4329,   17,   12])"
      ]
     },
     "execution_count": 4,
     "metadata": {},
     "output_type": "execute_result"
    }
   ],
   "source": [
    "np.array(train_data[10])"
   ]
  },
  {
   "cell_type": "markdown",
   "metadata": {},
   "source": [
    "<br>\n",
    "디코딩은 다음과 같이 진행합니다."
   ]
  },
  {
   "cell_type": "code",
   "execution_count": 5,
   "metadata": {},
   "outputs": [
    {
     "data": {
      "text/plain": [
       "'? ? ? said as a result of its december acquisition of space co it expects earnings per share in 1987 of 1 15 to 1 30 dlrs per share up from 70 cts in 1986 the company said pretax net should rise to nine to 10 mln dlrs from six mln dlrs in 1986 and rental operation revenues to 19 to 22 mln dlrs from 12 5 mln dlrs it said cash flow per share this year should be 2 50 to three dlrs reuter 3'"
      ]
     },
     "execution_count": 5,
     "metadata": {},
     "output_type": "execute_result"
    }
   ],
   "source": [
    "word_index = reuters.get_word_index()\n",
    "reverse_word_index = dict([(value, key) for (key, value) in word_index.items()])\n",
    "decoded_newswire = \" \".join(\n",
    "    [reverse_word_index.get(i-3, \"?\") for i in train_data[0]]\n",
    ")\n",
    "decoded_newswire"
   ]
  },
  {
   "cell_type": "markdown",
   "metadata": {},
   "source": [
    "<br>\n",
    "샘플에 연결된 레이블은 토픽의 인덱스로 0과 45 사이의 정수입니다."
   ]
  },
  {
   "cell_type": "code",
   "execution_count": 6,
   "metadata": {},
   "outputs": [
    {
     "name": "stdout",
     "output_type": "stream",
     "text": [
      "레이블의 범위: 0 ~ 45\n"
     ]
    }
   ],
   "source": [
    "mins = min(train_labels)\n",
    "maxes = max(train_labels)\n",
    "\n",
    "print(\"레이블의 범위: {} ~ {}\".format(mins, maxes))"
   ]
  },
  {
   "cell_type": "markdown",
   "metadata": {},
   "source": [
    "<br>\n",
    "\n",
    "## 3.2 Preparing the data"
   ]
  },
  {
   "cell_type": "markdown",
   "metadata": {},
   "source": [
    "데이터를 one-hot encoding으로 변환합니다."
   ]
  },
  {
   "cell_type": "code",
   "execution_count": 7,
   "metadata": {},
   "outputs": [],
   "source": [
    "import numpy as np\n",
    "\n",
    "def vectorize_sequences(sequences, dimension=10000):\n",
    "    results = np.zeros([len(sequences), dimension])\n",
    "    \n",
    "    for i, sequence in enumerate(sequences):\n",
    "        results[i, sequence] = 1.\n",
    "    return results\n",
    "\n",
    "train_data_scaled = vectorize_sequences(train_data)\n",
    "test_data_scaled = vectorize_sequences(test_data)"
   ]
  },
  {
   "cell_type": "markdown",
   "metadata": {},
   "source": [
    "<br>\n",
    "훈련데이터세트를 검증데이터와 훈련데이터로 나눕니다."
   ]
  },
  {
   "cell_type": "code",
   "execution_count": 8,
   "metadata": {},
   "outputs": [],
   "source": [
    "X_valid, X_train = train_data_scaled[:1000], train_data_scaled[1000:]\n",
    "X_test = test_data_scaled"
   ]
  },
  {
   "cell_type": "markdown",
   "metadata": {},
   "source": [
    "<br>\n",
    "레이블을 벡터로 바꾸는 방법은 2가지 입니다. 레이블의 리스트를 정수 텐서로 변환하는 것과 원-핫 인코딩을 사용하는 것입니다. 원-핫 인코딩이 범주형 데이터에 널리 사용되기 때문에 범주형 인코딩(categorical encoding)이라고도 부릅니다. 각 레이블의 인덱스 자리는 1이고 나머지는 모두 0인 벡터입니다. "
   ]
  },
  {
   "cell_type": "markdown",
   "metadata": {},
   "source": [
    "> 원-핫 인코딩 함수 직접 만들기"
   ]
  },
  {
   "cell_type": "code",
   "execution_count": 9,
   "metadata": {},
   "outputs": [],
   "source": [
    "# 레이블이 45까지 있으므로 \"45\"인 인덱스가 필요합니다. 파이썬에서는 0부터 시작하므로 46까지의 dimension이 있어야 45를 표현할 수 있습니다.\n",
    "def to_one_hot(labels, dimension=46):\n",
    "    results = np.zeros([len(labels), dimension])\n",
    "    \n",
    "    for i, label in enumerate(labels):\n",
    "        results[i, label] = 1.\n",
    "    return results"
   ]
  },
  {
   "cell_type": "code",
   "execution_count": 10,
   "metadata": {},
   "outputs": [],
   "source": [
    "one_hot_train_labels = to_one_hot(train_labels)\n",
    "one_hot_test_labels = to_one_hot(test_labels)"
   ]
  },
  {
   "cell_type": "markdown",
   "metadata": {},
   "source": [
    "<br>\n",
    "\n",
    "> keras API 이용"
   ]
  },
  {
   "cell_type": "code",
   "execution_count": 11,
   "metadata": {},
   "outputs": [],
   "source": [
    "from tensorflow.keras.utils import to_categorical\n",
    "\n",
    "one_hot_train_labels = to_categorical(train_labels, dtype=\"int\")\n",
    "one_hot_test_labels = to_categorical(test_labels, dtype=\"int\")"
   ]
  },
  {
   "cell_type": "markdown",
   "metadata": {},
   "source": [
    "<br>\n",
    "레이블또한 검증데이터와 훈련데이터로 나눕니다."
   ]
  },
  {
   "cell_type": "code",
   "execution_count": 12,
   "metadata": {},
   "outputs": [],
   "source": [
    "y_valid, y_train = train_labels[:1000], train_labels[1000:]"
   ]
  },
  {
   "cell_type": "markdown",
   "metadata": {},
   "source": [
    "<br>\n",
    "\n",
    "## 3.3 Building your network"
   ]
  },
  {
   "cell_type": "markdown",
   "metadata": {},
   "source": [
    "이 토픽 분류 문제는 이전의 영화 리뷰 문제와 비슷해 보입니다. 두 경우 모두 짧은 텍스트를 분류하는 것이죠. 여기에서는 새로운 제약 사항이 추가되었습니다. 출력 클래스의 갯수가 2개에서 46개로 늘어난 점입니다.  \n",
    "\n",
    "이전에 사용했던 것처럼 Dense층을 쌓으면 각 층은 이전 층의 출력에서 제공한 정보만 사용할 수 있습니다. 한 층이 분류 문제에 필요한 일부 정보를 누락하면 그 다음 층에서 이를 복원할 방법이 없습니다. 각 층은 잠재적으로 정보의 병목(information bottlenect)이 될 수 있습니다. 이전 예제에서 16차원을 가진 중간층을 사용했지만 16차원 공간은 46개의 클래스를 구분하기에 너무 제약이 많습니다. 이렇게 규모가 작은 층은 유용한 정보를 완전히 잃게 되는 정보의 병목 지점처럼 동작할 수 있습니다.  \n",
    "\n",
    "따라서 64개의 유닛을 사용하겠습니다."
   ]
  },
  {
   "cell_type": "code",
   "execution_count": 13,
   "metadata": {},
   "outputs": [
    {
     "name": "stderr",
     "output_type": "stream",
     "text": [
      "WARNING: Logging before flag parsing goes to stderr.\n",
      "W0804 14:45:58.913527 140336677271360 deprecation.py:506] From /opt/conda/envs/py36/lib/python3.6/site-packages/tensorflow/python/ops/init_ops.py:1251: calling VarianceScaling.__init__ (from tensorflow.python.ops.init_ops) with dtype is deprecated and will be removed in a future version.\n",
      "Instructions for updating:\n",
      "Call initializer instance with the dtype argument instead of passing it to the constructor\n"
     ]
    }
   ],
   "source": [
    "from tensorflow.keras import layers\n",
    "\n",
    "model = tf.keras.Sequential()\n",
    "model.add(layers.Dense(64, activation=\"relu\", input_shape=(10000, )))\n",
    "model.add(layers.Dense(64, activation=\"relu\"))\n",
    "model.add(layers.Dense(46, activation=\"softmax\"))"
   ]
  },
  {
   "cell_type": "markdown",
   "metadata": {},
   "source": [
    "<br>\n",
    "\n",
    "**이 구조에서 주목해야 할 점이 2가지가 있습니다.**  \n",
    "\n",
    "- 마지막 Dense층의 크기가 46입니다. 각 입력 샘플에 대해서 46차원(45개 레이블)의 벡터를 출력한다는 뜻입니다. 이 벡터의 각 원소는 각기 다른 출력 클래스가 인코딩 된 것입니다.  \n",
    "\n",
    "- 마지막 층에 softmax 활성화 함수가 사용되었습니다. 각 입력 샘플마다 46개의 출력 클래스에 대한 확률 분포를 출력합니다. 즉 46차원의 출력 벡터를 만들며 output[i]는 어떤 샘플이 클래스 i에 속할 확률입니다. 46개의 값을 모두 더하면 1이 됩니다.  \n",
    "\n",
    "이런 문제에 사용할 최선의 손실 함수는 ***categorical_crossentropy***입니다. 이 함수는 두 확률 분포 사이의 거리를 측정합니다. 여기에서는 네트워크가 출력한 확률 분포와 진짜 레이블의 분포 사이의 거리입니다. 두 분포 사이의 거리를 최소화하면 진짜 레이블에 가능한 가까운 출력을 내도록 모델을 훌련하게 됩니다."
   ]
  },
  {
   "cell_type": "code",
   "execution_count": 14,
   "metadata": {},
   "outputs": [],
   "source": [
    "from tensorflow.keras import optimizers, losses, metrics"
   ]
  },
  {
   "cell_type": "code",
   "execution_count": 15,
   "metadata": {},
   "outputs": [],
   "source": [
    "model.compile(optimizer=optimizers.Adam(lr=0.001), loss=losses.sparse_categorical_crossentropy, metrics=[metrics.sparse_categorical_accuracy])"
   ]
  },
  {
   "cell_type": "markdown",
   "metadata": {},
   "source": [
    "<br>\n",
    "\n",
    "모델을 출력하기 위한 Callback 클래스를 만듭니다."
   ]
  },
  {
   "cell_type": "code",
   "execution_count": 16,
   "metadata": {},
   "outputs": [],
   "source": [
    "class LossAndErrorPrintingCallback(tf.keras.callbacks.Callback):\n",
    "    def __init__(self, epochs):\n",
    "        self.epochs = epochs\n",
    "        \n",
    "    def on_epoch_begin(self, epoch, logs=None):\n",
    "        self.epoch = epoch                \n",
    "              \n",
    "    def on_train_batch_end(self, batch, logs=None):     \n",
    "        print('\\repoch: {}, loss {:.5f}'.format(self.epoch+1, logs['loss']), end=\" \")\n",
    "              \n",
    "    def on_epoch_end(self, epoch, logs=None):\n",
    "        if epoch == 0:\n",
    "            print(\"\\nhistory key: {}\".format(list(logs.keys())))\n",
    "#         print(\"\\repoch: {}, loss: {}\".format(epoch+1, logs[\"loss\"]), end=\" \")\n",
    "\n",
    "        if (epoch+1) % 5 == 0:\n",
    "            print(\"\\rEpoch {}/{}\".format(epoch+1, self.epochs), end=\" \")\n",
    "            print(\"loss: {:.5f}\".format(logs[\"loss\"]), end=\" \")\n",
    "            print(\"acc: {:.5f}\".format(logs[\"sparse_categorical_accuracy\"]), end=\" \")\n",
    "            print(\"val_loss: {:.5f}\".format(logs[\"val_loss\"]), end=\" \")\n",
    "            print(\"val_acc: {:.5f}\".format(logs[\"val_sparse_categorical_accuracy\"]))"
   ]
  },
  {
   "cell_type": "markdown",
   "metadata": {},
   "source": [
    "<br>\n",
    "\n",
    "이제 30번의 에포크로 모델을 훈련시킵니다."
   ]
  },
  {
   "cell_type": "code",
   "execution_count": 17,
   "metadata": {},
   "outputs": [
    {
     "name": "stdout",
     "output_type": "stream",
     "text": [
      "epoch: 1, loss 2.77204 \n",
      "history key: ['loss', 'sparse_categorical_accuracy', 'val_loss', 'val_sparse_categorical_accuracy']\n",
      "Epoch 5/30 loss: 0.73554 acc: 0.84277 val_loss: 0.99359 val_acc: 0.79400\n",
      "Epoch 10/30 loss: 0.23345 acc: 0.94538 val_loss: 0.88166 val_acc: 0.81700\n",
      "Epoch 15/30 loss: 0.12901 acc: 0.95941 val_loss: 0.93897 val_acc: 0.81100\n",
      "Epoch 20/30 loss: 0.10050 acc: 0.96204 val_loss: 0.98255 val_acc: 0.81200\n",
      "Epoch 25/30 loss: 0.09014 acc: 0.96429 val_loss: 1.05332 val_acc: 0.80100\n",
      "Epoch 30/30 loss: 0.08534 acc: 0.96367 val_loss: 1.03534 val_acc: 0.81700\n"
     ]
    }
   ],
   "source": [
    "history = model.fit(X_train, y_train, \n",
    "                    epochs=30, \n",
    "                    batch_size=512,\n",
    "                    verbose=0,\n",
    "                    validation_data=(X_valid, y_valid),\n",
    "                    callbacks=[LossAndErrorPrintingCallback(epochs=30)])"
   ]
  },
  {
   "cell_type": "markdown",
   "metadata": {},
   "source": [
    "<br>\n",
    "\n",
    "마지막으로 손실과 정확도 곡선을 그립니다."
   ]
  },
  {
   "cell_type": "code",
   "execution_count": 18,
   "metadata": {},
   "outputs": [],
   "source": [
    "import matplotlib.pyplot as plt"
   ]
  },
  {
   "cell_type": "code",
   "execution_count": 19,
   "metadata": {},
   "outputs": [],
   "source": [
    "history_dict = history.history"
   ]
  },
  {
   "cell_type": "code",
   "execution_count": 20,
   "metadata": {},
   "outputs": [
    {
     "data": {
      "image/png": "[encoded data removed]",
      "text/plain": [
       "<Figure size 1440x576 with 2 Axes>"
      ]
     },
     "metadata": {
      "needs_background": "light"
     },
     "output_type": "display_data"
    }
   ],
   "source": [
    "# ['loss', 'sparse_categorical_accuracy', 'val_loss', 'val_sparse_categorical_accuracy']\n",
    "loss = history_dict[\"loss\"]\n",
    "val_loss = history_dict[\"val_loss\"]\n",
    "\n",
    "acc = history_dict[\"sparse_categorical_accuracy\"]\n",
    "val_acc = history_dict[\"val_sparse_categorical_accuracy\"]\n",
    "\n",
    "epochs = range(1, len(loss)+1)\n",
    "\n",
    "plt.figure(figsize=(20, 8))\n",
    "plt.subplot(121)\n",
    "plt.plot(epochs, loss, \"bo-\", label=\"training loss\")\n",
    "plt.plot(epochs, val_loss, \"ro-\", markerfacecolor=\"orange\", markeredgecolor=\"k\", label=\"validation loss\")\n",
    "plt.title(\"Training and validation loss\")\n",
    "plt.xlabel(\"Epochs\")\n",
    "plt.ylabel(\"Loss\")\n",
    "plt.legend()\n",
    "\n",
    "plt.subplot(122)\n",
    "plt.plot(epochs, acc, \"bo-\", label=\"training accuracy\")\n",
    "plt.plot(epochs, val_acc, \"ro-\", markerfacecolor=\"orange\", markeredgecolor=\"k\", label=\"validation accuracy\")\n",
    "plt.xlabel(\"Epochs\")\n",
    "plt.ylabel(\"Accuracy\")\n",
    "plt.title(\"Training and Validation accuracy\")\n",
    "plt.legend()\n",
    "\n",
    "plt.tight_layout()\n",
    "plt.show()"
   ]
  },
  {
   "cell_type": "markdown",
   "metadata": {},
   "source": [
    "이 모델은 9번째 에포크 이후에 과대적합이 시작됩니다. 9번의 에포크로 새로운 모델을 훈련하고 테스트 세트에서 평가하겠습니다."
   ]
  },
  {
   "cell_type": "code",
   "execution_count": 21,
   "metadata": {},
   "outputs": [],
   "source": [
    "from tensorflow.keras import layers\n",
    "\n",
    "model = tf.keras.Sequential()\n",
    "model.add(layers.Dense(64, activation=\"relu\", input_shape=(10000, )))\n",
    "model.add(layers.Dense(64, activation=\"relu\"))\n",
    "model.add(layers.Dense(46, activation=\"softmax\"))\n",
    "\n",
    "from tensorflow.keras import optimizers, losses, metrics\n",
    "\n",
    "model.compile(optimizer=optimizers.Adam(lr=0.001), \n",
    "              loss=losses.sparse_categorical_crossentropy, \n",
    "              metrics=[metrics.sparse_categorical_accuracy])"
   ]
  },
  {
   "cell_type": "code",
   "execution_count": 22,
   "metadata": {},
   "outputs": [],
   "source": [
    "class LossAndErrorPrintingCallback(tf.keras.callbacks.Callback):\n",
    "    def __init__(self, epochs):\n",
    "        self.epochs = epochs\n",
    "        \n",
    "    def on_epoch_begin(self, epoch, logs=None):\n",
    "        self.epoch = epoch                \n",
    "              \n",
    "    def on_train_batch_end(self, batch, logs=None):        \n",
    "        print('\\repoch: {}, loss {:.5f}'.format(self.epoch+1, logs['loss']), end=\" \")\n",
    "              \n",
    "    def on_epoch_end(self, epoch, logs=None):\n",
    "        if epoch == 0:\n",
    "            print(\"\\nhistory key: {}\".format(list(logs.keys())))\n",
    "        print(\"\\repoch: {}, loss: {}\".format(epoch+1, logs[\"loss\"]), end=\" \")\n",
    "\n",
    "        if (epoch+1) % 2==0 or epoch+1 == self.epochs:\n",
    "            print(\"\\rEpoch {}/{}\".format(epoch+1, self.epochs), end=\" \")\n",
    "            print(\"loss: {:.5f}\".format(logs[\"loss\"]), end=\" \")\n",
    "            print(\"acc: {:.5f}\".format(logs[\"sparse_categorical_accuracy\"]))\n",
    "#             print(\"val_loss: {:.5f}\".format(logs[\"val_loss\"]), end=\" \")\n",
    "#             print(\"val_acc: {:.5f}\".format(logs[\"val_sparse_categorical_accuracy\"]))"
   ]
  },
  {
   "cell_type": "code",
   "execution_count": 23,
   "metadata": {},
   "outputs": [
    {
     "name": "stdout",
     "output_type": "stream",
     "text": [
      "epoch: 1, loss 2.72424 \n",
      "history key: ['loss', 'sparse_categorical_accuracy']\n",
      "Epoch 2/9 loss: 1.99040 acc: 0.59709\n",
      "Epoch 4/9 loss: 1.02357 acc: 0.77825\n",
      "Epoch 6/9 loss: 0.62581 acc: 0.86720\n",
      "Epoch 8/9 loss: 0.37696 acc: 0.92320\n",
      "Epoch 9/9 loss: 0.29820 acc: 0.93623\n"
     ]
    }
   ],
   "source": [
    "history = model.fit(X_train, y_train, \n",
    "                    epochs=9, \n",
    "                    batch_size=512,\n",
    "                    verbose=0,\n",
    "#                     validation_data=(X_valid, y_valid),\n",
    "                    callbacks=[LossAndErrorPrintingCallback(epochs=9)])"
   ]
  },
  {
   "cell_type": "markdown",
   "metadata": {},
   "source": [
    "<br>\n",
    "\n",
    "마지막으로 손실과 정확도 곡선을 그립니다."
   ]
  },
  {
   "cell_type": "code",
   "execution_count": 24,
   "metadata": {},
   "outputs": [],
   "source": [
    "import matplotlib.pyplot as plt"
   ]
  },
  {
   "cell_type": "code",
   "execution_count": 25,
   "metadata": {},
   "outputs": [],
   "source": [
    "history_dict = history.history"
   ]
  },
  {
   "cell_type": "code",
   "execution_count": 26,
   "metadata": {},
   "outputs": [
    {
     "data": {
      "image/png": "[encoded data removed]",
      "text/plain": [
       "<Figure size 1440x360 with 2 Axes>"
      ]
     },
     "metadata": {
      "needs_background": "light"
     },
     "output_type": "display_data"
    }
   ],
   "source": [
    "# ['loss', 'sparse_categorical_accuracy']\n",
    "loss = history_dict[\"loss\"]\n",
    "acc = history_dict[\"sparse_categorical_accuracy\"]\n",
    "\n",
    "epochs = range(1, len(loss)+1)\n",
    "\n",
    "plt.figure(figsize=(20, 5))\n",
    "plt.subplot(121)\n",
    "plt.plot(epochs, loss, \"bo-\", label=\"training loss\")\n",
    "plt.title(\"Training loss\")\n",
    "plt.xlabel(\"Epochs\")\n",
    "plt.ylabel(\"Loss\")\n",
    "plt.legend()\n",
    "\n",
    "plt.subplot(122)\n",
    "plt.plot(epochs, acc, \"bo--\", label=\"training accuracy\", marker=\"o\", markersize=8, markerfacecolor=\"g\")\n",
    "plt.xlabel(\"Epochs\")\n",
    "plt.ylabel(\"Accuracy\")\n",
    "plt.title(\"Training accuracy\")\n",
    "plt.legend()\n",
    "\n",
    "plt.show()"
   ]
  },
  {
   "cell_type": "code",
   "execution_count": 27,
   "metadata": {},
   "outputs": [],
   "source": [
    "import numpy as np"
   ]
  },
  {
   "cell_type": "code",
   "execution_count": 28,
   "metadata": {},
   "outputs": [
    {
     "name": "stdout",
     "output_type": "stream",
     "text": [
      "2246/2246 [==============================] - 0s 147us/sample - loss: 0.9645 - sparse_categorical_accuracy: 0.7867\n"
     ]
    }
   ],
   "source": [
    "# sparse_categorical_accuracy의 레이블은 원핫인코딩을 원래 값으로 돌려야 합니다.\n",
    "results = model.evaluate(X_test, np.argmax(one_hot_test_labels, axis=1))"
   ]
  },
  {
   "cell_type": "markdown",
   "metadata": {},
   "source": [
    "대략 78%의 정확도를 달성했습니다. 균형 잡힌 이진 분류 문제에서 완전히 무작위로 분류하면 50%의 정확도를 달성합니다. 이 문제는 불균형한 데이터셋을 사용하므로 무작위로 분류하면 18% 정도를 달성합니다. 여기에 비하면 이 결과는 괘 좋은 편입니다."
   ]
  },
  {
   "cell_type": "code",
   "execution_count": 29,
   "metadata": {},
   "outputs": [
    {
     "data": {
      "text/plain": [
       "0.18699910952804988"
      ]
     },
     "execution_count": 29,
     "metadata": {},
     "output_type": "execute_result"
    }
   ],
   "source": [
    "import copy\n",
    "\n",
    "test_labels_copy = copy.copy(test_labels)\n",
    "np.random.shuffle(test_labels_copy)\n",
    "hits_array = np.array(test_labels) == np.array(test_labels_copy)\n",
    "\n",
    "float(np.sum(hits_array)) / len(test_labels)"
   ]
  },
  {
   "cell_type": "markdown",
   "metadata": {},
   "source": [
    "<br>\n",
    "\n",
    "## 3.4 Generating predictions on new data"
   ]
  },
  {
   "cell_type": "markdown",
   "metadata": {},
   "source": [
    "모델 객체의 predict 메서드는 46개의 토픽에 대한 확률 분포를 반환합니다. 테스트 데이터 전체에 대한 토픽을 예측해보겠습니다."
   ]
  },
  {
   "cell_type": "code",
   "execution_count": 30,
   "metadata": {},
   "outputs": [],
   "source": [
    "predictions = model.predict(X_test)"
   ]
  },
  {
   "cell_type": "code",
   "execution_count": 31,
   "metadata": {},
   "outputs": [
    {
     "data": {
      "text/plain": [
       "(46,)"
      ]
     },
     "execution_count": 31,
     "metadata": {},
     "output_type": "execute_result"
    }
   ],
   "source": [
    "predictions[0].shape"
   ]
  },
  {
   "cell_type": "markdown",
   "metadata": {},
   "source": [
    "<br>\n",
    "\n",
    "이 벡터의 원소 합은 1입니다."
   ]
  },
  {
   "cell_type": "code",
   "execution_count": 32,
   "metadata": {},
   "outputs": [
    {
     "data": {
      "text/plain": [
       "1.0000002"
      ]
     },
     "execution_count": 32,
     "metadata": {},
     "output_type": "execute_result"
    }
   ],
   "source": [
    "np.sum(predictions[0])"
   ]
  },
  {
   "cell_type": "markdown",
   "metadata": {},
   "source": [
    "<br>\n",
    "\n",
    "가장 큰 값이 예측 클래스가 됩니다. 즉 가장 확률이 높은 클래스입니다."
   ]
  },
  {
   "cell_type": "code",
   "execution_count": 33,
   "metadata": {},
   "outputs": [
    {
     "data": {
      "text/plain": [
       "3"
      ]
     },
     "execution_count": 33,
     "metadata": {},
     "output_type": "execute_result"
    }
   ],
   "source": [
    "np.argmax(predictions[0])"
   ]
  },
  {
   "cell_type": "markdown",
   "metadata": {},
   "source": [
    "<br> \n",
    "\n",
    "## 3.6 The importance of having sufficiently large intermediate layers"
   ]
  },
  {
   "cell_type": "markdown",
   "metadata": {},
   "source": [
    "마지막 출력이 46차원이기 때문에 중간층의 히든 유닛이 46개보다 많이 적어서는 안됩니다. 46차원보다 훨씬 작은 중간층(예를 들어 4차원) 두면 정보의 병목이 어떻게 나타나는지 확인해 보겠습니다."
   ]
  },
  {
   "cell_type": "code",
   "execution_count": 34,
   "metadata": {},
   "outputs": [],
   "source": [
    "from tensorflow.keras import layers\n",
    "from tensorflow.keras import optimizers, losses, metrics\n",
    "\n",
    "def my_models(hidden):\n",
    "    model = tf.keras.Sequential()\n",
    "    model.add(layers.Dense(64, activation=\"relu\", input_shape=(10000, )))\n",
    "    model.add(layers.Dense(hidden, activation=\"relu\"))\n",
    "    model.add(layers.Dense(46, activation=\"softmax\"))\n",
    "    \n",
    "    model.compile(optimizer=optimizers.Adam(lr=0.001), \n",
    "                  loss=losses.sparse_categorical_crossentropy, \n",
    "                  metrics=[metrics.sparse_categorical_accuracy])\n",
    "    \n",
    "    history = model.fit(X_train, y_train, \n",
    "                    epochs=9, \n",
    "                    batch_size=512,\n",
    "                    verbose=0,\n",
    "                    validation_data=(X_valid, y_valid),\n",
    "                    callbacks=None)\n",
    "    \n",
    "    return model, history"
   ]
  },
  {
   "cell_type": "markdown",
   "metadata": {},
   "source": [
    "> hidden layer가 4일 때"
   ]
  },
  {
   "cell_type": "code",
   "execution_count": 35,
   "metadata": {},
   "outputs": [
    {
     "name": "stdout",
     "output_type": "stream",
     "text": [
      "2246/2246 [==============================] - 0s 112us/sample - loss: 1.7276 - sparse_categorical_accuracy: 0.6362\n"
     ]
    },
    {
     "data": {
      "text/plain": [
       "[1.7276170705963434, 0.6362422]"
      ]
     },
     "execution_count": 35,
     "metadata": {},
     "output_type": "execute_result"
    }
   ],
   "source": [
    "model_hidden4, history_hidden4 = my_models(hidden=4)\n",
    "\n",
    "model_hidden4.evaluate(X_test, np.argmax(one_hot_test_labels, axis=1))"
   ]
  },
  {
   "cell_type": "markdown",
   "metadata": {},
   "source": [
    "<br>\n",
    "\n",
    "> hidden layer가 128일 때"
   ]
  },
  {
   "cell_type": "code",
   "execution_count": 36,
   "metadata": {},
   "outputs": [
    {
     "name": "stdout",
     "output_type": "stream",
     "text": [
      "2246/2246 [==============================] - 0s 72us/sample - loss: 0.9785 - sparse_categorical_accuracy: 0.7943\n"
     ]
    },
    {
     "data": {
      "text/plain": [
       "[0.9785053407307299, 0.794301]"
      ]
     },
     "execution_count": 36,
     "metadata": {},
     "output_type": "execute_result"
    }
   ],
   "source": [
    "model_hidden128, history_hidden128 = my_models(hidden=128)\n",
    "\n",
    "model_hidden128.evaluate(X_test, np.argmax(one_hot_test_labels, axis=1))"
   ]
  },
  {
   "cell_type": "markdown",
   "metadata": {},
   "source": [
    "<br>\n",
    "\n",
    "위의 결과를 시각화 해보겠습니다."
   ]
  },
  {
   "cell_type": "code",
   "execution_count": 37,
   "metadata": {},
   "outputs": [],
   "source": [
    "import matplotlib.pyplot as plt"
   ]
  },
  {
   "cell_type": "code",
   "execution_count": 38,
   "metadata": {},
   "outputs": [],
   "source": [
    "history_dict_4 = history_hidden4.history\n",
    "history_dict_128 = history_hidden128.history"
   ]
  },
  {
   "cell_type": "code",
   "execution_count": 39,
   "metadata": {},
   "outputs": [
    {
     "data": {
      "image/png": "[encoded data removed]",
      "text/plain": [
       "<Figure size 1440x360 with 2 Axes>"
      ]
     },
     "metadata": {
      "needs_background": "light"
     },
     "output_type": "display_data"
    }
   ],
   "source": [
    "# ['loss', 'sparse_categorical_accuracy']\n",
    "loss_4 = history_dict_4[\"val_loss\"]\n",
    "loss_128 = history_dict_128[\"val_loss\"]\n",
    "\n",
    "acc_4 = history_dict_4[\"val_sparse_categorical_accuracy\"]\n",
    "acc_128 = history_dict_128[\"val_sparse_categorical_accuracy\"]\n",
    "\n",
    "epochs = range(1, len(loss_4)+1)\n",
    "\n",
    "plt.figure(figsize=(20, 5))\n",
    "plt.subplot(121)\n",
    "plt.plot(epochs, loss_4, \"bo-\", label=\"hidden layer 4\")\n",
    "plt.plot(epochs, loss_128, \"ro--\", label=\"hidden layer 128\", \n",
    "         marker=\"o\", markersize=8, markerfacecolor=\"k\")\n",
    "plt.title(\"Validation loss(hidden4 VS hidden 128)\")\n",
    "plt.xlabel(\"Epochs\")\n",
    "plt.ylabel(\"Loss\")\n",
    "plt.legend()\n",
    "\n",
    "plt.subplot(122)\n",
    "plt.plot(epochs, acc_4, \"bo-\", label=\"hidden layer 4\")\n",
    "plt.plot(epochs, acc_128, \"ro--\", label=\"hidden layer 128\", \n",
    "         marker=\"o\", markersize=8, markerfacecolor=\"k\")\n",
    "plt.xlabel(\"Epochs\")\n",
    "plt.ylabel(\"Accuracy\")\n",
    "plt.title(\"Validation accuracy(hidden4 VS hidden 128)\")\n",
    "plt.legend()\n",
    "\n",
    "plt.show()"
   ]
  },
  {
   "cell_type": "markdown",
   "metadata": {},
   "source": [
    "검증 정확도의 값이 대부분 hidden layer가 많을 때가 높습니다. 이런 손실의 원인 대부분은 많은 정보(클래스 46개의 분할 초평면을 복원하기에 충분한 정보)를 중간층의 저차원 표현 공간으로 압축하려고 했기 때문입니다. 이 네트워크는 필요한 정보 대부분을 4차원에 압축해서 넣었지만 전부 넣지는 못하여 위 그림처럼 나오게 됩니다."
   ]
  }
 ],
 "metadata": {
  "kernelspec": {
   "display_name": "py36",
   "language": "python",
   "name": "py36"
  },
  "language_info": {
   "codemirror_mode": {
    "name": "ipython",
    "version": 3
   },
   "file_extension": ".py",
   "mimetype": "text/x-python",
   "name": "python",
   "nbconvert_exporter": "python",
   "pygments_lexer": "ipython3",
   "version": "3.6.9"
  }
 },
 "nbformat": 4,
 "nbformat_minor": 4
}
